{
 "metadata": {
  "name": "",
  "signature": "sha256:c87e532cbdcbe79cd7e336babd6e32ff33f4251d56b83883d3a9615b27755a41"
 },
 "nbformat": 3,
 "nbformat_minor": 0,
 "worksheets": [
  {
   "cells": [
    {
     "cell_type": "heading",
     "level": 3,
     "metadata": {},
     "source": [
      "Tombe Recreation"
     ]
    },
    {
     "cell_type": "heading",
     "level": 4,
     "metadata": {},
     "source": [
      "Data and Parameters"
     ]
    },
    {
     "cell_type": "code",
     "collapsed": false,
     "input": [
      "#Import relevant modules \n",
      "\n",
      "import numpy as np\n",
      "from __future__ import division"
     ],
     "language": "python",
     "metadata": {},
     "outputs": [],
     "prompt_number": 1
    },
    {
     "cell_type": "code",
     "collapsed": false,
     "input": [
      "#General Variables pertaining to size of data\n",
      "\n",
      "NumCountries=2        #number of countries in data"
     ],
     "language": "python",
     "metadata": {},
     "outputs": [],
     "prompt_number": 2
    },
    {
     "cell_type": "code",
     "collapsed": false,
     "input": [
      "#Create Exogeneous Parameters\n",
      "epsilonA=0.01\n",
      "epsilonM=0.24\n",
      "epsilonS=0.75\n",
      "\n",
      "thetaA=4.06\n",
      "thetaM=4.63\n",
      "\n",
      "xsi=np.array([.2, .3])\n",
      "\n",
      "InputShares = np.array([[.65, .65, .65], [.50, .35, .59], [.31, .06, .01], [.39, .61, .24], [.30, .33, .75]])\n",
      "beta=.65\n",
      "gamma= np.array([[.31, .06, .01], [.39, .61, .24], [.30, .33, .75]])"
     ],
     "language": "python",
     "metadata": {},
     "outputs": [],
     "prompt_number": 3
    },
    {
     "cell_type": "code",
     "collapsed": false,
     "input": [
      "#Create data vectors:  Ln, TradeShare, and, FoodShare\n",
      "Ln=np.ones(NumCountries) \n",
      "\n",
      "TradeshareAg = np.array(np.ones(NumCountries**2))*(1/NumCountries)   #element ij is share of j in spending of i\n",
      "TradeshareAg.shape=(NumCountries, NumCountries)\n",
      "TradeshareMan = np.array(np.ones(NumCountries**2))*(1/NumCountries)\n",
      "TradeshareMan.shape=(NumCountries, NumCountries)\n",
      "TradeshareSer = np.array(np.ones(NumCountries**2))*(1/NumCountries)\n",
      "TradeshareSer.shape=(NumCountries, NumCountries)\n",
      "\n",
      "FoodShare=np.array(np.ones(NumCountries))*.33        #s_n^a in the paper\n",
      "\n",
      "wages=np.array([1, 2])"
     ],
     "language": "python",
     "metadata": {},
     "outputs": [],
     "prompt_number": 4
    },
    {
     "cell_type": "heading",
     "level": 4,
     "metadata": {},
     "source": [
      "Direct Calcultions from data and exogeneous paramters"
     ]
    },
    {
     "cell_type": "code",
     "collapsed": false,
     "input": [
      "#First, take the share of expenditure in each good.\n",
      "#These are the coefficients on I_n from equation (6)\n",
      "ManShare=epsilonM*(1-FoodShare)/(1-epsilonA)\n",
      "SerShare=epsilonS*(1-FoodShare)/(1-epsilonA)\n",
      "ExpendShare=np.transpose(np.array([FoodShare, ManShare, SerShare]))\n",
      "\n",
      "\n"
     ],
     "language": "python",
     "metadata": {},
     "outputs": [],
     "prompt_number": 5
    },
    {
     "cell_type": "code",
     "collapsed": false,
     "input": [
      "# Prepare data for equations (10) and (12) \n",
      "\n",
      "phiK = InputShares[1,:]\n",
      "phiKint = np.transpose(np.array([np.ones(3)-phiK, np.ones(3)-phiK, np.ones(3)-phiK])) #entries in row i all 1-phi^a, second 1-phi^m, etc\n",
      "\n",
      "VAshares = phiKint*gamma  #element ij is (1-phi^i)*gamma^{ij}\n",
      "\n",
      "VAsharesAG = VAshares[0,:]\n",
      "VAsharesMan = VAshares[1,:]\n",
      "VAsharesSer = VAshares[2,:]\n",
      "\n",
      "\n"
     ],
     "language": "python",
     "metadata": {},
     "outputs": [],
     "prompt_number": 6
    },
    {
     "cell_type": "code",
     "collapsed": false,
     "input": [
      "#Create big coefficient Matrix\n",
      "\n",
      "CoeffAgAg=VAsharesAG[0]*TradeshareAg\n",
      "CoeffAgMan=VAsharesAG[1]*TradeshareMan\n",
      "CoeffAgSer=VAsharesAG[2]*TradeshareSer\n",
      "\n",
      "CoeffManAg=VAsharesMan[0]*TradeshareAg\n",
      "CoeffManMan=VAsharesMan[1]*TradeshareMan\n",
      "CoeffManSer=VAsharesMan[2]*TradeshareSer\n",
      "\n",
      "CoeffSerAg=VAsharesSer[0]*TradeshareAg\n",
      "CoeffSerMan=VAsharesSer[1]*TradeshareMan\n",
      "CoeffSerSer=VAsharesSer[2]*TradeshareSer\n",
      "\n"
     ],
     "language": "python",
     "metadata": {},
     "outputs": [],
     "prompt_number": 7
    },
    {
     "cell_type": "code",
     "collapsed": false,
     "input": [
      "#Big vector of Expenditures"
     ],
     "language": "python",
     "metadata": {},
     "outputs": [],
     "prompt_number": 8
    },
    {
     "cell_type": "code",
     "collapsed": true,
     "input": [
      "#Big vector of Expenditures\n",
      "coeffsAg=np.append(np.transpose(CoeffAgAg),np.transpose(CoeffAgMan), axis=1)  \n",
      "coeffsAg=np.append(coeffsAg,np.transpose(CoeffAgSer), axis=1)\n",
      "\n",
      "coeffsMan=np.append(np.transpose(CoeffManAg),np.transpose(CoeffManMan), axis=1)  \n",
      "coeffsMan=np.append(coeffsMan,np.transpose(CoeffManSer), axis=1)\n",
      "\n",
      "coeffsSer=np.append(np.transpose(CoeffSerAg),np.transpose(CoeffSerMan), axis=1)  \n",
      "coeffsSer=np.append(coeffsSer,np.transpose(CoeffSerSer), axis=1)\n",
      "\n",
      "coeffs=np.append(coeffsAg, coeffsMan, axis=0)\n",
      "coeffs=np.append(coeffs, coeffsSer, axis=0)\n",
      "\n",
      "coeffs.shape"
     ],
     "language": "python",
     "metadata": {},
     "outputs": [
      {
       "metadata": {},
       "output_type": "pyout",
       "prompt_number": 9,
       "text": [
        "(6, 6)"
       ]
      }
     ],
     "prompt_number": 9
    },
    {
     "cell_type": "heading",
     "level": 4,
     "metadata": {},
     "source": [
      "Preallocate Decision Variables"
     ]
    },
    {
     "cell_type": "code",
     "collapsed": false,
     "input": [
      "Income=np.ones(NumCountries)\n",
      "\n",
      "DnAg=np.ones(NumCountries)\n",
      "DnM=np.ones(NumCountries)\n",
      "DnS=np.ones(NumCountries)\n",
      "\n",
      "RnAg=np.ones(NumCountries)\n",
      "RnM=np.ones(NumCountries)\n",
      "RnS=np.ones(NumCountries)\n",
      "\n",
      "littleL=np.ones(NumCountries)\n",
      "\n",
      "XAg=np.ones(NumCountries)\n",
      "XM=np.ones(NumCountries)\n",
      "XS=np.ones(NumCountries)"
     ],
     "language": "python",
     "metadata": {},
     "outputs": [],
     "prompt_number": 10
    },
    {
     "cell_type": "heading",
     "level": 4,
     "metadata": {},
     "source": [
      "Define Functions"
     ]
    },
    {
     "cell_type": "code",
     "collapsed": false,
     "input": [
      "def income_calc(in_littleL):\n",
      "    lambdaN=np.ones(NumCountries)-in_littleL*(np.ones(NumCountries)-xsi)\n",
      "    return wages*Ln*lambdaN/beta"
     ],
     "language": "python",
     "metadata": {},
     "outputs": [],
     "prompt_number": 11
    },
    {
     "cell_type": "code",
     "collapsed": false,
     "input": [
      "print income_calc(.33)   #1.132"
     ],
     "language": "python",
     "metadata": {},
     "outputs": [
      {
       "output_type": "stream",
       "stream": "stdout",
       "text": [
        "[ 1.13230769  2.36615385]\n"
       ]
      }
     ],
     "prompt_number": 12
    },
    {
     "cell_type": "code",
     "collapsed": false,
     "input": [
      "def expenditure(in_littleL, in_income):\n",
      "    return np.dot(in_income, in_littleL)\n",
      "    "
     ],
     "language": "python",
     "metadata": {},
     "outputs": []
    },
    {
     "cell_type": "code",
     "collapsed": false,
     "input": [
      "def production(in_expenditure):\n",
      "    \n",
      "    ''' \n",
      "    This function solves simulateously for all the production combinations X_n^j.\n",
      "    It does so by substituting (10) into (12) and creating a matrix where X_n^j\n",
      "    is the eigenvector correpsonding to the eigenvalue 1.\n",
      "    '''\n",
      "    \n",
      "    \n",
      "    \n",
      "    \n",
      "    #common country coefficients\n",
      "    np.ones(3)-phiK*Gamma[:,j]\n",
      "    commonsum=np.cumsum(1-)\n",
      "    #full matrix of coefficients"
     ],
     "language": "python",
     "metadata": {},
     "outputs": []
    },
    {
     "cell_type": "heading",
     "level": 4,
     "metadata": {},
     "source": [
      "Iteration"
     ]
    },
    {
     "cell_type": "code",
     "collapsed": false,
     "input": [],
     "language": "python",
     "metadata": {},
     "outputs": []
    }
   ],
   "metadata": {}
  }
 ]
}