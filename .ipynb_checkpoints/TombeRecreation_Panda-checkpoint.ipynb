{
 "metadata": {
  "name": "",
  "signature": "sha256:c9c19c1510729067aa1d5991ce931add6f416e0aaed2a55201ade2f345dbb95d"
 },
 "nbformat": 3,
 "nbformat_minor": 0,
 "worksheets": [
  {
   "cells": [
    {
     "cell_type": "heading",
     "level": 3,
     "metadata": {},
     "source": [
      "Tombe Recreation"
     ]
    },
    {
     "cell_type": "heading",
     "level": 4,
     "metadata": {},
     "source": [
      "Data and Parameters"
     ]
    },
    {
     "cell_type": "code",
     "collapsed": false,
     "input": [
      "#Import relevant modules \n",
      "import numpy as np\n",
      "\n",
      "import pandas as pd\n",
      "\n",
      "from scipy.linalg import inv, solve, det\n",
      "\n",
      "from __future__ import division"
     ],
     "language": "python",
     "metadata": {},
     "outputs": [],
     "prompt_number": 1
    },
    {
     "cell_type": "code",
     "collapsed": false,
     "input": [
      "#List of Countries and Sectors\n",
      "NumCountries=180        #number of countries in data\n",
      "countrylist = pd.Series(['Country{0}'.format(i+1) for i in range(NumCountries)])\n",
      "\n",
      "sectorlist=pd.Series(['Ag', 'Man', 'Ser'])"
     ],
     "language": "python",
     "metadata": {},
     "outputs": [],
     "prompt_number": 2
    },
    {
     "cell_type": "code",
     "collapsed": false,
     "input": [
      "# Seed for Random Number Generator\n",
      "np.random.seed(seed=2005)"
     ],
     "language": "python",
     "metadata": {},
     "outputs": [],
     "prompt_number": 3
    },
    {
     "cell_type": "code",
     "collapsed": false,
     "input": [
      "#Fake data vectors:  Ln, TradeShare, and, FoodShare\n",
      "Population=pd.Series(np.ones(NumCountries), index=countrylist, name = 'Population Size') \n",
      "\n",
      "TradeshareAg = np.array(np.ones(NumCountries**2))*(1/NumCountries)   #element ij is share of j in spending of i\n",
      "TradeshareAg.shape=(NumCountries, NumCountries)\n",
      "TradeshareAg=pd.DataFrame(TradeshareAg)\n",
      "TradeshareAg.index=countrylist\n",
      "TradeshareAg.columns=countrylist\n",
      "TradeshareAg.name='Share of Ag from column j in spending of row i' \n",
      "\n",
      "TradeshareMan= np.array(np.ones(NumCountries**2))*(1/NumCountries)   #element ij is share of j in spending of i\n",
      "TradeshareMan.shape=(NumCountries, NumCountries)\n",
      "TradeshareMan=pd.DataFrame(TradeshareMan)\n",
      "TradeshareMan.index=countrylist\n",
      "TradeshareMan.columns=countrylist\n",
      "TradeshareMan.name='Share of Man from column j in spending of row i' \n",
      "\n",
      "\n",
      "TradeshareSer=pd.DataFrame(np.identity(NumCountries))\n",
      "TradeshareSer.index=countrylist\n",
      "TradeshareSer.columns=countrylist\n",
      "TradeshareSer.name='Share of Ser from column j in spending of row i' "
     ],
     "language": "python",
     "metadata": {},
     "outputs": [],
     "prompt_number": 4
    },
    {
     "cell_type": "code",
     "collapsed": false,
     "input": [
      "TradeShare={}\n",
      "TradeShare['Ag']=TradeshareAg\n",
      "TradeShare['Man']=TradeshareMan\n",
      "TradeShare['Ser']=TradeshareSer"
     ],
     "language": "python",
     "metadata": {},
     "outputs": [],
     "prompt_number": 5
    },
    {
     "cell_type": "code",
     "collapsed": false,
     "input": [
      "FoodShare = pd.Series(np.random.random(NumCountries), name='Share of Ag in Total Exp', index=countrylist)\n",
      "\n",
      "wages = pd.Series(np.random.random(NumCountries), name='Wages', index=countrylist)\n",
      "\n",
      "littleL = pd.Series(np.random.random(NumCountries), name='Ag Labor Share', index=countrylist)"
     ],
     "language": "python",
     "metadata": {},
     "outputs": [],
     "prompt_number": 6
    },
    {
     "cell_type": "code",
     "collapsed": false,
     "input": [
      "#Create Exogeneous Parameters\n",
      "epsilon = pd.Series([0.01, 0.24, 0.75], name='Epsilon')\n",
      "epsilon.index=sectorlist\n",
      "\n",
      "\n",
      "theta=pd.Series([4.06, 4.63], name = 'Theta')\n",
      "theta.index=('Ag', 'Man')\n",
      "\n",
      "xsi = pd.Series(np.random.random(NumCountries), name='Xsi')     #Change to data when have all countries\n",
      "xsi.index = countrylist"
     ],
     "language": "python",
     "metadata": {},
     "outputs": [],
     "prompt_number": 7
    },
    {
     "cell_type": "code",
     "collapsed": false,
     "input": [
      "#Table 2 from Tombe\n",
      "beta=0.65\n",
      "\n",
      "phi=pd.Series([.50, .35, .59], name='VA Share')\n",
      "phi.index=sectorlist\n",
      "\n",
      "gamma=pd.DataFrame([ [.31, .06, .01], [.39, .61, .24], [.30, .33, .75]])\n",
      "gamma.columns= sectorlist\n",
      "gamma.index = sectorlist"
     ],
     "language": "python",
     "metadata": {},
     "outputs": [],
     "prompt_number": 8
    },
    {
     "cell_type": "code",
     "collapsed": false,
     "input": [
      "#Combines the Coefficients from equations (10) and (12)\n",
      "\n",
      "#Initialize coefficient matrix\n",
      "coeff_matrix = np.ones(3*NumCountries)\n",
      "coeff_matrix.shape=(1, 3*NumCountries)\n",
      "coeff_matrix=pd.DataFrame(coeff_matrix, index=['Initialize'])\n",
      "\n",
      "for source in countrylist:\n",
      "    \n",
      "    for prod_sector in sectorlist:\n",
      "        new_row = []\n",
      "        new_index='{0}_{1}'.format(source, prod_sector)\n",
      "        \n",
      "        for use_sector in sectorlist:\n",
      "            phiK = phi[use_sector]\n",
      "            gammaKJ = gamma.ix[prod_sector:prod_sector, [use_sector]]\n",
      "            gammaKJ=float(np.array(gammaKJ))\n",
      "            pi_mat = TradeShare[use_sector]\n",
      "\n",
      "        \n",
      "            for destination in countrylist:\n",
      "                pi = pi_mat.ix[destination:destination, [source]]\n",
      "                pi = float(np.array(pi))\n",
      "                new_coeff=(1-phiK)*gammaKJ*pi\n",
      "        \n",
      "                new_row.append(new_coeff)\n",
      "    \n",
      "        # Format new_row and add to matrix of coefficients\n",
      "        new_row=np.array(new_row)\n",
      "        new_row.shape=(1, NumCountries*3)\n",
      "        new_row=pd.DataFrame(new_row, index=[new_index])\n",
      "        coeff_matrix = pd.concat([coeff_matrix, new_row], axis=0)\n",
      "    \n",
      "    \n",
      "coeff_matrix = coeff_matrix.drop('Initialize')\n",
      "\n",
      "\n"
     ],
     "language": "python",
     "metadata": {},
     "outputs": [],
     "prompt_number": 9
    },
    {
     "cell_type": "code",
     "collapsed": false,
     "input": [
      "#Create Columns\n",
      "long_columns=[]\n",
      "for sector in sectorlist:\n",
      "    for country in countrylist:\n",
      "        new_entry='{0}_{1}'.format(country, sector)\n",
      "        long_columns.append(new_entry)\n",
      "        \n",
      "coeff_matrix.columns = long_columns"
     ],
     "language": "python",
     "metadata": {},
     "outputs": [],
     "prompt_number": 10
    },
    {
     "cell_type": "heading",
     "level": 4,
     "metadata": {},
     "source": [
      "Direct Calcultions from data and exogeneous parameters"
     ]
    },
    {
     "cell_type": "code",
     "collapsed": false,
     "input": [
      "#These are the coefficients on I_n from equation (6)\n",
      "\n",
      "ManShare=epsilon['Man']*(1-FoodShare)/(1-epsilon['Ag'])\n",
      "ManShare.name='Share of Man in Total Exp'\n",
      "\n",
      "SerShare=epsilon['Ser']*(1-FoodShare)/(1-epsilon['Ag'])\n",
      "SerShare.name='Share of Ser in Total Exp'\n",
      "\n",
      "\n",
      "ExpShare = pd.concat([FoodShare, ManShare], axis=1)\n",
      "ExpShare = pd.concat([ExpShare, SerShare], axis=1)\n",
      "ExpShare.columns = sectorlist\n",
      "ExpShare.name = 'Expenditure Shares'"
     ],
     "language": "python",
     "metadata": {},
     "outputs": [],
     "prompt_number": 11
    },
    {
     "cell_type": "heading",
     "level": 4,
     "metadata": {},
     "source": [
      "Define Functions"
     ]
    },
    {
     "cell_type": "code",
     "collapsed": false,
     "input": [
      "def income_calc(in_littleL):\n",
      "    '''Calculate income based on equation (14).'''\n",
      "    \n",
      "    lambdaN = np.ones(NumCountries)-in_littleL*(np.ones(NumCountries)-np.array(xsi))\n",
      "    return wages*Population*lambdaN/beta"
     ],
     "language": "python",
     "metadata": {},
     "outputs": [],
     "prompt_number": 12
    },
    {
     "cell_type": "code",
     "collapsed": false,
     "input": [
      "def expenditure_calc(in_littleL, in_income):  \n",
      "    ''' Calculate expenditure based on equation (6).'''\n",
      "\n",
      "    out_expenditure = np.array([1, 1, 1])\n",
      "    out_expenditure.shape = (1,3)\n",
      "    out_expenditure = pd.DataFrame(out_expenditure, index=['Initialize'], columns=sectorlist)\n",
      "    \n",
      "    for country in countrylist:\n",
      "        country_income = float(np.array(in_income[country:country]))\n",
      "        country_expshare = np.array(ExpShare[country:country])\n",
      "        country_expenditure = country_income*country_expshare\n",
      "        country_expenditure = pd.DataFrame(country_expenditure, columns=sectorlist, index=[country])\n",
      "        out_expenditure = pd.concat([out_expenditure, country_expenditure], axis=0)\n",
      "    \n",
      "    out_expenditure = out_expenditure.drop('Initialize')\n",
      "    \n",
      "    return out_expenditure\n",
      "    "
     ],
     "language": "python",
     "metadata": {},
     "outputs": [],
     "prompt_number": 13
    },
    {
     "cell_type": "code",
     "collapsed": false,
     "input": [
      "def reshape_expenditure(in_expenditure):\n",
      "    ''' Prepare expenditure for use in production_calc.'''\n",
      "    \n",
      "    out_matrix = pd.DataFrame(np.ones(1), index=['Initialize'])\n",
      "    \n",
      "    for sector in sectorlist:\n",
      "        new_entries = in_expenditure.pop(sector)\n",
      "        new_entries.columns = ['newcol']\n",
      "        new_entries_index = ['{0}_{1}'.format(country, sector) for country in countrylist]\n",
      "        new_entries.index = new_entries_index\n",
      "        out_matrix = pd.concat([out_matrix, new_entries], axis=0)\n",
      "        \n",
      "    out_matrix = out_matrix.drop('Initialize')\n",
      "    out_matrix.columns = ['Expenditure']\n",
      "    \n",
      "    return out_matrix\n",
      "        "
     ],
     "language": "python",
     "metadata": {},
     "outputs": [],
     "prompt_number": 14
    },
    {
     "cell_type": "code",
     "collapsed": false,
     "input": [
      "def production_calc(in_expenditure):\n",
      "    \n",
      "    ''' \n",
      "    This function solves simulateously for all the production combinations X_n^j.\n",
      "    It does so by substituting (10) into (12) and solving the results linear system of equations.\n",
      "    '''\n",
      "    \n",
      "    Expenditures = reshape_expenditure(in_expenditure)\n",
      "    \n",
      "    LHS = np.identity(NumCountries*3) - coeff_matrix\n",
      "    \n",
      "    X_matrix = solve(LHS, Expenditures)\n",
      "\n",
      "    X_matrix = pd.DataFrame(X_matrix, index=long_columns)\n",
      "    \n",
      "    X_matrix.columns = ['Production']\n",
      "    \n",
      "    return X_matrix\n",
      "    \n"
     ],
     "language": "python",
     "metadata": {},
     "outputs": [],
     "prompt_number": 15
    },
    {
     "cell_type": "code",
     "collapsed": false,
     "input": [
      "def reshape_production(in_production):\n",
      "    ''' Reformat production data to fit in revenue_calc.'''\n",
      "    \n",
      "    out_production = np.ones(3)\n",
      "    out_production.shape = (1, 3)\n",
      "    out_production = pd.DataFrame(out_production, index = ['Initialize'])\n",
      "    out_production.columns = sectorlist\n",
      "    for country in countrylist:\n",
      "        new_row=[]\n",
      "        for sector in sectorlist:\n",
      "            key = '{0}_{1}'.format(country, sector)\n",
      "            new_entry = float(in_production.ix[key])\n",
      "            new_row.append(new_entry)\n",
      "            \n",
      "        new_row = np.array(new_row)\n",
      "        new_row.shape = (1,3)\n",
      "        new_row = pd.DataFrame(new_row, index = [country])\n",
      "        new_row.columns = sectorlist\n",
      "        out_production = pd.concat([out_production, new_row], axis=0)\n",
      "        \n",
      "    out_production = out_production.drop('Initialize')\n",
      "    return out_production"
     ],
     "language": "python",
     "metadata": {},
     "outputs": [],
     "prompt_number": 16
    },
    {
     "cell_type": "code",
     "collapsed": false,
     "input": [
      "def revenue_calc(in_production):\n",
      "    '''Calculate revenue by equation (10).'''\n",
      "    \n",
      "    production_matrix = reshape_production(in_production)\n",
      "    new_revenue_dict = {}\n",
      "    \n",
      "    \n",
      "    for sector in sectorlist:\n",
      "        production_vector = production_matrix[sector]\n",
      "        new_column=[]\n",
      "        \n",
      "        for country in countrylist:\n",
      "            pi_matrix = TradeShare[sector]\n",
      "            pi_vector = pi_matrix[country]\n",
      "            new_revenue = np.dot(pi_vector, production_vector)\n",
      "            new_column.append(new_revenue)\n",
      "        \n",
      "        new_column = np.array(new_column)\n",
      "        new_column.shape = (NumCountries, 1)\n",
      "        new_column = pd.DataFrame(new_column, index=countrylist)\n",
      "        new_column.columns = [sector]\n",
      "        new_revenue_dict[sector] = new_column\n",
      "        \n",
      "    out_revenue = pd.concat([new_revenue_dict['Ag'], new_revenue_dict['Man']], axis=1)\n",
      "    out_revenue = pd.concat([out_revenue, new_revenue_dict['Ser']], axis=1)\n",
      "    \n",
      "    return out_revenue\n",
      "        \n",
      "            "
     ],
     "language": "python",
     "metadata": {},
     "outputs": [],
     "prompt_number": 17
    },
    {
     "cell_type": "code",
     "collapsed": false,
     "input": [
      "def littleL_calc(in_revenue):\n",
      "    '''Calculate ag labor share by equation (13).'''\n",
      "    \n",
      "    out_littleL = []\n",
      "    \n",
      "    for country in countrylist:\n",
      "        xsi_n = float(xsi[country])\n",
      "        revenue_ag = float(np.array(in_revenue.ix[country:country, ['Ag']]))\n",
      "        revenue_man = float(np.array(in_revenue.ix[country:country, ['Man']]))\n",
      "        revenue_ser = float(np.array(in_revenue.ix[country:country, ['Ser']]))\n",
      "        \n",
      "        numerator = xsi_n*(phi['Man']*revenue_man + phi['Ser']*revenue_ser )\n",
      "        demoninator = phi['Ser']*revenue_ag\n",
      "        inside = 1+numerator/demoninator\n",
      "        new_entry = float(inside**(-1))\n",
      "        \n",
      "        out_littleL.append(new_entry)\n",
      "        \n",
      "    out_littleL = np.asarray(out_littleL)\n",
      "    \n",
      "    return out_littleL"
     ],
     "language": "python",
     "metadata": {},
     "outputs": [],
     "prompt_number": 18
    },
    {
     "cell_type": "heading",
     "level": 4,
     "metadata": {},
     "source": [
      "Iteration"
     ]
    },
    {
     "cell_type": "code",
     "collapsed": false,
     "input": [
      "# This code iterates until a solution is found.\n",
      "\n",
      "iteration = 0\n",
      "\n",
      "crit=10\n",
      "\n",
      "littleL = np.random.random(NumCountries)\n",
      "\n",
      "while crit > .0000001:\n",
      "\n",
      "    iteration = iteration + 1\n",
      "\n",
      "    income = income_calc(littleL)\n",
      "\n",
      "    expenditure = expenditure_calc(littleL, income)\n",
      "\n",
      "    production = production_calc(expenditure)\n",
      "\n",
      "    revenue = revenue_calc(production)\n",
      "    \n",
      "    new_littleL = littleL_calc(revenue)\n",
      "    \n",
      "    difference =  np.array(new_littleL)-np.array(littleL)\n",
      "    \n",
      "    difference = abs(difference)\n",
      "    \n",
      "    crit = np.amax(difference)\n",
      "    \n",
      "    littleL = .5*np.array(littleL) + .5*np.array(new_littleL)\n",
      "    \n",
      "    \n",
      "littleL = pd.Series(littleL, name='Ag Labor Share', index=countrylist)\n",
      "print iteration, crit "
     ],
     "language": "python",
     "metadata": {},
     "outputs": [
      {
       "output_type": "stream",
       "stream": "stdout",
       "text": [
        "30 9.36488177006e-08\n"
       ]
      }
     ],
     "prompt_number": 19
    },
    {
     "cell_type": "code",
     "collapsed": false,
     "input": [],
     "language": "python",
     "metadata": {},
     "outputs": [],
     "prompt_number": 19
    },
    {
     "cell_type": "code",
     "collapsed": false,
     "input": [],
     "language": "python",
     "metadata": {},
     "outputs": []
    }
   ],
   "metadata": {}
  }
 ]
}