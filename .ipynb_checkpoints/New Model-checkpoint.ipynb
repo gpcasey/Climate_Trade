{
 "metadata": {
  "name": "",
  "signature": "sha256:8975c28c6d4982aa563e3883186ac35fa44be697b74d190d14ab7424e21639ed"
 },
 "nbformat": 3,
 "nbformat_minor": 0,
 "worksheets": [
  {
   "cells": [
    {
     "cell_type": "heading",
     "level": 3,
     "metadata": {},
     "source": [
      "Set-up Python"
     ]
    },
    {
     "cell_type": "code",
     "collapsed": false,
     "input": [
      "#Import relevant modules \n",
      "import numpy as np\n",
      "\n",
      "import pandas as pd\n",
      "\n",
      "from scipy.linalg import inv, solve, det\n",
      "\n",
      "from __future__ import division"
     ],
     "language": "python",
     "metadata": {},
     "outputs": [],
     "prompt_number": 6
    },
    {
     "cell_type": "code",
     "collapsed": false,
     "input": [
      "#Convert lists to pandas with desired shape. This will occur frequently.\n",
      "\n",
      "def list_to_panda(in_list, in_shape, in_index, in_column):\n",
      "    ''' Convert list to Panda with appropriate shape.'''\n",
      "    \n",
      "    np_list = np.array(in_list)\n",
      "    np_list.shape = in_shape\n",
      "    pd_list = pd.DataFrame(np_list)\n",
      "    pd_list.index = in_index\n",
      "    pd_list.coumns = in_column\n",
      "    \n",
      "    return pd_list"
     ],
     "language": "python",
     "metadata": {},
     "outputs": [],
     "prompt_number": 7
    },
    {
     "cell_type": "heading",
     "level": 3,
     "metadata": {},
     "source": [
      "Set-up Model"
     ]
    },
    {
     "cell_type": "code",
     "collapsed": false,
     "input": [
      "# Preliminaries\n",
      "\n",
      "\n",
      "# Seed for Random Number Generator\n",
      "np.random.seed(seed=2005)\n",
      "\n",
      "#Country and sector set-up\n",
      "NumCountries = 2\n",
      "\n",
      "country_list = pd.Series(['Country{0}'.format(i+1) for i in range(NumCountries)])\n",
      "\n",
      "sector_list=pd.Series(['Ag', 'Man', 'Ser'])"
     ],
     "language": "python",
     "metadata": {},
     "outputs": [],
     "prompt_number": 8
    },
    {
     "cell_type": "code",
     "collapsed": false,
     "input": [
      "# Parameters\n",
      "epsilon = pd.Series([0.01, 0.24, 0.75], name='Epsilon')\n",
      "epsilon.index=sector_list\n",
      "\n",
      "\n",
      "theta=pd.Series([4.06, 4.63], name = 'Theta')\n",
      "theta.index=('Ag', 'Man')\n",
      "\n",
      "xsi = pd.Series(np.random.random(NumCountries), name='Xsi')     #Change to data when have all countries\n",
      "xsi.index = country_list\n",
      "\n",
      "a_bar = 4   #Malthusian constraint\n",
      "\n",
      "Population = pd.Series(np.ones(NumCountries), index=country_list, name = 'Population Size')"
     ],
     "language": "python",
     "metadata": {},
     "outputs": [],
     "prompt_number": 9
    },
    {
     "cell_type": "code",
     "collapsed": false,
     "input": [
      "# test list_to_panda\n",
      "new_list = [1, 2, 3, 4, 5, 6]\n",
      "list_to_panda(new_list, (2, 3), country_list, sector_list)"
     ],
     "language": "python",
     "metadata": {},
     "outputs": [
      {
       "html": [
        "<div style=\"max-height:1000px;max-width:1500px;overflow:auto;\">\n",
        "<table border=\"1\" class=\"dataframe\">\n",
        "  <thead>\n",
        "    <tr style=\"text-align: right;\">\n",
        "      <th></th>\n",
        "      <th>0</th>\n",
        "      <th>1</th>\n",
        "      <th>2</th>\n",
        "    </tr>\n",
        "  </thead>\n",
        "  <tbody>\n",
        "    <tr>\n",
        "      <th>Country1</th>\n",
        "      <td> 1</td>\n",
        "      <td> 2</td>\n",
        "      <td> 3</td>\n",
        "    </tr>\n",
        "    <tr>\n",
        "      <th>Country2</th>\n",
        "      <td> 4</td>\n",
        "      <td> 5</td>\n",
        "      <td> 6</td>\n",
        "    </tr>\n",
        "  </tbody>\n",
        "</table>\n",
        "</div>"
       ],
       "metadata": {},
       "output_type": "pyout",
       "prompt_number": 11,
       "text": [
        "          0  1  2\n",
        "Country1  1  2  3\n",
        "Country2  4  5  6"
       ]
      }
     ],
     "prompt_number": 11
    },
    {
     "cell_type": "code",
     "collapsed": false,
     "input": [
      "# Fake Data:  change when building final quantiative results.\n",
      "xsi = pd.Series(np.random.random(NumCountries), name='Xsi')   \n",
      "xsi.index = country_list\n",
      "\n",
      "\n",
      "trade_barrier_dict={}\n",
      "\n",
      "tau_ag = np.random.random(NumCountries**2) + np.ones(NumCountries**2)\n",
      "tau_ag.shape = (NumCountries, NumCountries)\n",
      "tau_ag = pd.DataFrame(tau_ag)\n",
      "tau_ag.index = country_list\n",
      "tau_ag.columns = country_list\n",
      "\n",
      "trade_barrier_dict['Ag'] = tau_ag\n",
      "\n",
      "tau_man = np.random.random(NumCountries**2) + np.ones(NumCountries**2)\n",
      "tau_man.shape = (NumCountries, NumCountries)\n",
      "tau_man = pd.DataFrame(tau_man)\n",
      "tau_man.index = country_list\n",
      "tau_man.columns = country_list\n",
      "\n",
      "trade_barrier_dict['Man'] = tau_ag\n",
      "\n",
      "other_bigT = np.random.random(NumCountries-1)\n",
      "other_bigT.shape = (1, NumCountries-1)\n",
      "usa_bigT = np.array([1])\n",
      "usa_bigT.shape = (1,1)\n",
      "bigT = np.concatenate((usa_bigT, other_bigT))"
     ],
     "language": "python",
     "metadata": {},
     "outputs": [],
     "prompt_number": 17
    },
    {
     "cell_type": "code",
     "collapsed": false,
     "input": [
      "#initialized Values\n",
      "\n",
      "wages = pd.Series(np.random.random(NumCountries), name='Wages')  "
     ],
     "language": "python",
     "metadata": {},
     "outputs": [],
     "prompt_number": 22
    },
    {
     "cell_type": "heading",
     "level": 3,
     "metadata": {},
     "source": [
      "Functions"
     ]
    },
    {
     "cell_type": "code",
     "collapsed": false,
     "input": [
      "def trade_share_inner(in_country):\n",
      "    '''Calculate trade shares for any destination country.''' \n",
      "    \n",
      "    tau_vector = barrier_matrix.ix[in_country:in_country]\n",
      "            \n",
      "    bigPhi_entry =  tau_vector * wages\n",
      "    bigPhi_entry = bigPhi_entry ** theta_j\n",
      "    bigPhi_entry = bigT * bigPhi_entry\n",
      "    bigPhi = bigPhi_entry.sum\n",
      "            \n",
      "    return big_phi_entry / bigPhi          "
     ],
     "language": "python",
     "metadata": {},
     "outputs": [],
     "prompt_number": 20
    },
    {
     "cell_type": "code",
     "collapsed": false,
     "input": [
      "# Test Inner\n",
      "barrier_matrix = trade_barrier_dict['Ag']\n",
      "theta_j = theta['Ag']\n",
      "\n",
      "trade_share_inner('Country1')"
     ],
     "language": "python",
     "metadata": {},
     "outputs": [
      {
       "ename": "ValueError",
       "evalue": "Shape of passed values is (4, 2), indices imply (4, 1)",
       "output_type": "pyerr",
       "traceback": [
        "\u001b[1;31m---------------------------------------------------------------------------\u001b[0m\n\u001b[1;31mValueError\u001b[0m                                Traceback (most recent call last)",
        "\u001b[1;32m<ipython-input-23-d4239c58172c>\u001b[0m in \u001b[0;36m<module>\u001b[1;34m()\u001b[0m\n\u001b[0;32m      3\u001b[0m \u001b[0mtheta_j\u001b[0m \u001b[1;33m=\u001b[0m \u001b[0mtheta\u001b[0m\u001b[1;33m[\u001b[0m\u001b[1;34m'Ag'\u001b[0m\u001b[1;33m]\u001b[0m\u001b[1;33m\u001b[0m\u001b[0m\n\u001b[0;32m      4\u001b[0m \u001b[1;33m\u001b[0m\u001b[0m\n\u001b[1;32m----> 5\u001b[1;33m \u001b[0mtrade_share_inner\u001b[0m\u001b[1;33m(\u001b[0m\u001b[1;34m'Country1'\u001b[0m\u001b[1;33m)\u001b[0m\u001b[1;33m\u001b[0m\u001b[0m\n\u001b[0m",
        "\u001b[1;32m<ipython-input-20-4256373295a4>\u001b[0m in \u001b[0;36mtrade_share_inner\u001b[1;34m(in_country)\u001b[0m\n\u001b[0;32m      5\u001b[0m     \u001b[0mbigPhi_entry\u001b[0m \u001b[1;33m=\u001b[0m  \u001b[0mtau_vector\u001b[0m \u001b[1;33m*\u001b[0m \u001b[0mwages\u001b[0m\u001b[1;33m\u001b[0m\u001b[0m\n\u001b[0;32m      6\u001b[0m     \u001b[0mbigPhi_entry\u001b[0m \u001b[1;33m=\u001b[0m \u001b[0mbigPhi_entry\u001b[0m \u001b[1;33m**\u001b[0m \u001b[0mtheta_j\u001b[0m\u001b[1;33m\u001b[0m\u001b[0m\n\u001b[1;32m----> 7\u001b[1;33m     \u001b[0mbigPhi_entry\u001b[0m \u001b[1;33m=\u001b[0m \u001b[0mbigT\u001b[0m \u001b[1;33m*\u001b[0m \u001b[0mbigPhi_entry\u001b[0m\u001b[1;33m\u001b[0m\u001b[0m\n\u001b[0m\u001b[0;32m      8\u001b[0m     \u001b[0mbigPhi\u001b[0m \u001b[1;33m=\u001b[0m \u001b[0mbigPhi_entry\u001b[0m\u001b[1;33m.\u001b[0m\u001b[0msum\u001b[0m\u001b[1;33m\u001b[0m\u001b[0m\n\u001b[0;32m      9\u001b[0m \u001b[1;33m\u001b[0m\u001b[0m\n",
        "\u001b[1;32mC:\\Users\\Greg\\Anaconda\\lib\\site-packages\\pandas\\core\\generic.pyc\u001b[0m in \u001b[0;36m__array_wrap__\u001b[1;34m(self, result, context)\u001b[0m\n\u001b[0;32m    720\u001b[0m     \u001b[1;32mdef\u001b[0m \u001b[0m__array_wrap__\u001b[0m\u001b[1;33m(\u001b[0m\u001b[0mself\u001b[0m\u001b[1;33m,\u001b[0m \u001b[0mresult\u001b[0m\u001b[1;33m,\u001b[0m \u001b[0mcontext\u001b[0m\u001b[1;33m=\u001b[0m\u001b[0mNone\u001b[0m\u001b[1;33m)\u001b[0m\u001b[1;33m:\u001b[0m\u001b[1;33m\u001b[0m\u001b[0m\n\u001b[0;32m    721\u001b[0m         \u001b[0md\u001b[0m \u001b[1;33m=\u001b[0m \u001b[0mself\u001b[0m\u001b[1;33m.\u001b[0m\u001b[0m_construct_axes_dict\u001b[0m\u001b[1;33m(\u001b[0m\u001b[0mself\u001b[0m\u001b[1;33m.\u001b[0m\u001b[0m_AXIS_ORDERS\u001b[0m\u001b[1;33m,\u001b[0m \u001b[0mcopy\u001b[0m\u001b[1;33m=\u001b[0m\u001b[0mFalse\u001b[0m\u001b[1;33m)\u001b[0m\u001b[1;33m\u001b[0m\u001b[0m\n\u001b[1;32m--> 722\u001b[1;33m         \u001b[1;32mreturn\u001b[0m \u001b[0mself\u001b[0m\u001b[1;33m.\u001b[0m\u001b[0m_constructor\u001b[0m\u001b[1;33m(\u001b[0m\u001b[0mresult\u001b[0m\u001b[1;33m,\u001b[0m \u001b[1;33m**\u001b[0m\u001b[0md\u001b[0m\u001b[1;33m)\u001b[0m\u001b[1;33m.\u001b[0m\u001b[0m__finalize__\u001b[0m\u001b[1;33m(\u001b[0m\u001b[0mself\u001b[0m\u001b[1;33m)\u001b[0m\u001b[1;33m\u001b[0m\u001b[0m\n\u001b[0m\u001b[0;32m    723\u001b[0m \u001b[1;33m\u001b[0m\u001b[0m\n\u001b[0;32m    724\u001b[0m     \u001b[1;31m# ideally we would define this to avoid the getattr checks, but\u001b[0m\u001b[1;33m\u001b[0m\u001b[1;33m\u001b[0m\u001b[0m\n",
        "\u001b[1;32mC:\\Users\\Greg\\Anaconda\\lib\\site-packages\\pandas\\core\\frame.pyc\u001b[0m in \u001b[0;36m__init__\u001b[1;34m(self, data, index, columns, dtype, copy)\u001b[0m\n\u001b[0;32m    232\u001b[0m             \u001b[1;32melse\u001b[0m\u001b[1;33m:\u001b[0m\u001b[1;33m\u001b[0m\u001b[0m\n\u001b[0;32m    233\u001b[0m                 mgr = self._init_ndarray(data, index, columns, dtype=dtype,\n\u001b[1;32m--> 234\u001b[1;33m                                          copy=copy)\n\u001b[0m\u001b[0;32m    235\u001b[0m         \u001b[1;32melif\u001b[0m \u001b[0misinstance\u001b[0m\u001b[1;33m(\u001b[0m\u001b[0mdata\u001b[0m\u001b[1;33m,\u001b[0m \u001b[1;33m(\u001b[0m\u001b[0mlist\u001b[0m\u001b[1;33m,\u001b[0m \u001b[0mtypes\u001b[0m\u001b[1;33m.\u001b[0m\u001b[0mGeneratorType\u001b[0m\u001b[1;33m)\u001b[0m\u001b[1;33m)\u001b[0m\u001b[1;33m:\u001b[0m\u001b[1;33m\u001b[0m\u001b[0m\n\u001b[0;32m    236\u001b[0m             \u001b[1;32mif\u001b[0m \u001b[0misinstance\u001b[0m\u001b[1;33m(\u001b[0m\u001b[0mdata\u001b[0m\u001b[1;33m,\u001b[0m \u001b[0mtypes\u001b[0m\u001b[1;33m.\u001b[0m\u001b[0mGeneratorType\u001b[0m\u001b[1;33m)\u001b[0m\u001b[1;33m:\u001b[0m\u001b[1;33m\u001b[0m\u001b[0m\n",
        "\u001b[1;32mC:\\Users\\Greg\\Anaconda\\lib\\site-packages\\pandas\\core\\frame.pyc\u001b[0m in \u001b[0;36m_init_ndarray\u001b[1;34m(self, values, index, columns, dtype, copy)\u001b[0m\n\u001b[0;32m    365\u001b[0m             \u001b[0mcolumns\u001b[0m \u001b[1;33m=\u001b[0m \u001b[0m_ensure_index\u001b[0m\u001b[1;33m(\u001b[0m\u001b[0mcolumns\u001b[0m\u001b[1;33m)\u001b[0m\u001b[1;33m\u001b[0m\u001b[0m\n\u001b[0;32m    366\u001b[0m \u001b[1;33m\u001b[0m\u001b[0m\n\u001b[1;32m--> 367\u001b[1;33m         \u001b[1;32mreturn\u001b[0m \u001b[0mcreate_block_manager_from_blocks\u001b[0m\u001b[1;33m(\u001b[0m\u001b[1;33m[\u001b[0m\u001b[0mvalues\u001b[0m\u001b[1;33m.\u001b[0m\u001b[0mT\u001b[0m\u001b[1;33m]\u001b[0m\u001b[1;33m,\u001b[0m \u001b[1;33m[\u001b[0m\u001b[0mcolumns\u001b[0m\u001b[1;33m,\u001b[0m \u001b[0mindex\u001b[0m\u001b[1;33m]\u001b[0m\u001b[1;33m)\u001b[0m\u001b[1;33m\u001b[0m\u001b[0m\n\u001b[0m\u001b[0;32m    368\u001b[0m \u001b[1;33m\u001b[0m\u001b[0m\n\u001b[0;32m    369\u001b[0m     \u001b[1;33m@\u001b[0m\u001b[0mproperty\u001b[0m\u001b[1;33m\u001b[0m\u001b[0m\n",
        "\u001b[1;32mC:\\Users\\Greg\\Anaconda\\lib\\site-packages\\pandas\\core\\internals.pyc\u001b[0m in \u001b[0;36mcreate_block_manager_from_blocks\u001b[1;34m(blocks, axes)\u001b[0m\n\u001b[0;32m   3228\u001b[0m         \u001b[0mblocks\u001b[0m \u001b[1;33m=\u001b[0m \u001b[1;33m[\u001b[0m\u001b[0mgetattr\u001b[0m\u001b[1;33m(\u001b[0m\u001b[0mb\u001b[0m\u001b[1;33m,\u001b[0m \u001b[1;34m'values'\u001b[0m\u001b[1;33m,\u001b[0m \u001b[0mb\u001b[0m\u001b[1;33m)\u001b[0m \u001b[1;32mfor\u001b[0m \u001b[0mb\u001b[0m \u001b[1;32min\u001b[0m \u001b[0mblocks\u001b[0m\u001b[1;33m]\u001b[0m\u001b[1;33m\u001b[0m\u001b[0m\n\u001b[0;32m   3229\u001b[0m         \u001b[0mtot_items\u001b[0m \u001b[1;33m=\u001b[0m \u001b[0msum\u001b[0m\u001b[1;33m(\u001b[0m\u001b[0mb\u001b[0m\u001b[1;33m.\u001b[0m\u001b[0mshape\u001b[0m\u001b[1;33m[\u001b[0m\u001b[1;36m0\u001b[0m\u001b[1;33m]\u001b[0m \u001b[1;32mfor\u001b[0m \u001b[0mb\u001b[0m \u001b[1;32min\u001b[0m \u001b[0mblocks\u001b[0m\u001b[1;33m)\u001b[0m\u001b[1;33m\u001b[0m\u001b[0m\n\u001b[1;32m-> 3230\u001b[1;33m         \u001b[0mconstruction_error\u001b[0m\u001b[1;33m(\u001b[0m\u001b[0mtot_items\u001b[0m\u001b[1;33m,\u001b[0m \u001b[0mblocks\u001b[0m\u001b[1;33m[\u001b[0m\u001b[1;36m0\u001b[0m\u001b[1;33m]\u001b[0m\u001b[1;33m.\u001b[0m\u001b[0mshape\u001b[0m\u001b[1;33m[\u001b[0m\u001b[1;36m1\u001b[0m\u001b[1;33m:\u001b[0m\u001b[1;33m]\u001b[0m\u001b[1;33m,\u001b[0m \u001b[0maxes\u001b[0m\u001b[1;33m,\u001b[0m \u001b[0me\u001b[0m\u001b[1;33m)\u001b[0m\u001b[1;33m\u001b[0m\u001b[0m\n\u001b[0m\u001b[0;32m   3231\u001b[0m \u001b[1;33m\u001b[0m\u001b[0m\n\u001b[0;32m   3232\u001b[0m \u001b[1;33m\u001b[0m\u001b[0m\n",
        "\u001b[1;32mC:\\Users\\Greg\\Anaconda\\lib\\site-packages\\pandas\\core\\internals.pyc\u001b[0m in \u001b[0;36mconstruction_error\u001b[1;34m(tot_items, block_shape, axes, e)\u001b[0m\n\u001b[0;32m   3209\u001b[0m         \u001b[1;32mraise\u001b[0m \u001b[0me\u001b[0m\u001b[1;33m\u001b[0m\u001b[0m\n\u001b[0;32m   3210\u001b[0m     raise ValueError(\"Shape of passed values is {0}, indices imply {1}\".format(\n\u001b[1;32m-> 3211\u001b[1;33m         passed,implied))\n\u001b[0m\u001b[0;32m   3212\u001b[0m \u001b[1;33m\u001b[0m\u001b[0m\n\u001b[0;32m   3213\u001b[0m \u001b[1;33m\u001b[0m\u001b[0m\n",
        "\u001b[1;31mValueError\u001b[0m: Shape of passed values is (4, 2), indices imply (4, 1)"
       ]
      }
     ],
     "prompt_number": 23
    },
    {
     "cell_type": "code",
     "collapsed": false,
     "input": [
      "def trade_shares_outer(wages):\n",
      "    '''Loop over all countries and sectors to create trade shares.'''\n",
      "    \n",
      "    trade_share_dict = {}\n",
      "    \n",
      "    for sector in ['Ag', 'Man']:\n",
      "        \n",
      "        barrier_matrix = trade_barrier_dict[sector]\n",
      "        theta_j = theta[sector]\n",
      "       \n",
      "        #initialize trade share matrix\n",
      "        trade_shares = np.ones(NumCountries)\n",
      "        trade_shares = (1, NumCountries)\n",
      "        trade_shares = pd.DataFrame(trade_shares, index=['Initialize'])\n",
      "        \n",
      "        for destination in country_list:\n",
      "            \n",
      "            new_row = trade_share_inner(destination)\n",
      "            trade_shares = pd.concat([trade_shares, new_row], axis=0)\n",
      "            \n",
      "        trade_shares = trade_shares.drop('Initialize')\n",
      "        trade_shares_dict[sector] = trade_shares\n",
      "        \n",
      "     \n",
      "     return trade_share_dict  \n"
     ],
     "language": "python",
     "metadata": {},
     "outputs": []
    },
    {
     "cell_type": "code",
     "collapsed": false,
     "input": [
      "# Test Outer"
     ],
     "language": "python",
     "metadata": {},
     "outputs": []
    }
   ],
   "metadata": {}
  }
 ]
}