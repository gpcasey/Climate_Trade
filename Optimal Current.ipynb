{
 "metadata": {
  "name": "",
  "signature": "sha256:57f27386b33f5d16feeeb10a2e366c2006583cbdd0f57909a28a2e5d7a97029f"
 },
 "nbformat": 3,
 "nbformat_minor": 0,
 "worksheets": [
  {
   "cells": [
    {
     "cell_type": "code",
     "collapsed": false,
     "input": [
      "#Imports network analyst\n",
      "import networkx as nx\n",
      "\n",
      "#Imports math\n",
      "import math as math\n",
      "\n",
      "#imports csv\n",
      "import csv\n",
      "\n",
      "from scipy.optimize import  minimize\n",
      "\n",
      "import numpy as np\n",
      "\n",
      "from __future__ import division"
     ],
     "language": "python",
     "metadata": {},
     "outputs": [],
     "prompt_number": 1
    },
    {
     "cell_type": "code",
     "collapsed": false,
     "input": [
      "#create haversine function\n",
      "\n",
      "def haversine(coord1, coord2):\n",
      "    \n",
      "    lon1, lat1 = coord1\n",
      "    lon2, lat2 = coord2\n",
      "    \n",
      "    #convert to radians\n",
      "    lon1=math.radians(lon1)\n",
      "    lon2=math.radians(lon2)\n",
      "    lat1=math.radians(lat1)\n",
      "    lat2=math.radians(lat2)\n",
      "    \n",
      "    #Calculate changes\n",
      "    dlat=float(lat2-lat1)\n",
      "    dlon = float(lon2-lon1)\n",
      "    \n",
      "    #Perform Calculations\n",
      "    a=((math.sin(dlat/2.0))**2)+math.cos(lat1)*math.cos(lat2)*(math.sin(dlon/2))**2\n",
      "    R=6373.0\n",
      "    cinta=math.sqrt(a)\n",
      "    cintb=math.sqrt(1-a)\n",
      "    c=2.0*math.atan2(cinta, cintb)\n",
      "    d=R*c\n",
      "    \n",
      "    #Return distance\n",
      "    return d"
     ],
     "language": "python",
     "metadata": {},
     "outputs": [],
     "prompt_number": 31
    },
    {
     "cell_type": "code",
     "collapsed": false,
     "input": [
      "def FindNearest(node, find_dictionary):\n",
      "    dist=1000000000\n",
      "    nearest_coord=()\n",
      "    for entry in find_dictionary:\n",
      "        xnode, ynode = node\n",
      "        xentry, yentry, ifc = entry\n",
      "        distnew = math.sqrt((xnode-xentry)**2+(ynode-yentry)**2)\n",
      "        if distnew < dist:\n",
      "            dist=distnew\n",
      "            nearest_coord = entry \n",
      "        else:\n",
      "            pass\n",
      "    return nearest_coord \n",
      "        "
     ],
     "language": "python",
     "metadata": {},
     "outputs": [],
     "prompt_number": 32
    },
    {
     "cell_type": "code",
     "collapsed": false,
     "input": [
      "def average_current(start_node, end_node, average_dictionary):\n",
      "    '''\n",
      "    This file calculates currents in KM/hour.\n",
      "    Original data in cm/sec.\n",
      "    '''\n",
      "    #Find nodes in currents dictionary\n",
      "    start_current_node = FindNearest(start_node, average_dictionary)\n",
      "    end_current_node = FindNearest(end_node, average_dictionary) \n",
      "    \n",
      "    xstart, ystart, ifc = start_current_node\n",
      "    xend, yend, ifc = end_current_node\n",
      "    \n",
      "    #Determine current\n",
      "    xdirection = (xstart>xend)+(-1)*(xend>xstart)\n",
      "    ydirection = (ystart>yend)+(-1)*(yend>ystart)\n",
      "    \n",
      "    Xcurrent =  (average_dictionary[xstart, ystart, 30] + average_dictionary[xend, yend, 30])\n",
      "    Ycurrent = (average_dictionary[xstart, ystart, 31] + average_dictionary[xend, yend, 31])\n",
      "    \n",
      "    Xcurrent = Xcurrent/100000*60*60\n",
      "    Ycurrent = Ycurrent/100000*60*60\n",
      "        \n",
      "    \n",
      "    return Xcurrent, Ycurrent"
     ],
     "language": "python",
     "metadata": {},
     "outputs": [],
     "prompt_number": 33
    },
    {
     "cell_type": "code",
     "collapsed": false,
     "input": [
      "def minimize_func(theta):\n",
      "    \n",
      "    global start_coord, end_coord, currentdict\n",
      "    \n",
      "    Xcurrent, Ycurrent = average_current(start_coord, end_coord, currentdict)\n",
      "    distance = haversine(start_coord, end_coord)\n",
      "    speed = math.sqrt((20*np.cos(theta)+Xcurrent)**2 + (20*np.sin(theta)+Ycurrent)**2)\n",
      "    days = distance/speed\n",
      "    \n",
      "    return np.array([days])\n",
      "    "
     ],
     "language": "python",
     "metadata": {},
     "outputs": [],
     "prompt_number": 46
    },
    {
     "cell_type": "code",
     "collapsed": false,
     "input": [
      "currentdict={}\n",
      "currentsdata=open(\"C:/Users/Greg/Dropbox/Research/Distance and Trade/Analysis/currents.txt\",'r')\n",
      "for line in currentsdata:\n",
      "    stripline = line.strip(' \" ')\n",
      "    stripline = stripline[1:-3]\n",
      "    lon, lat, ifc, current = stripline.split(\",\")\n",
      "    lon = int(lon)\n",
      "    lat = int(lat)\n",
      "    ifc = int(ifc)\n",
      "    current = float(current)\n",
      "    currentdict[(lon, lat, ifc)]=current"
     ],
     "language": "python",
     "metadata": {},
     "outputs": [],
     "prompt_number": 47
    },
    {
     "cell_type": "code",
     "collapsed": false,
     "input": [
      "cons = ({'type' : 'eq', 'fun' : lambda x:  np.array([(Xdistance/(20*np.cos(x)+Xcurrent))*20*np.sin(x) \n",
      "                                                    + (Xdistance/(20*np.cos(x)+Xcurrent))*Ycurrent - Ydistance])}, \n",
      "        {'type' : 'ineq', 'fun' : lambda x:  np.array([2*math.pi-x])}, \n",
      "        )"
     ],
     "language": "python",
     "metadata": {},
     "outputs": [],
     "prompt_number": 59
    },
    {
     "cell_type": "code",
     "collapsed": false,
     "input": [
      "cons"
     ],
     "language": "python",
     "metadata": {},
     "outputs": [
      {
       "metadata": {},
       "output_type": "pyout",
       "prompt_number": 60,
       "text": [
        "({'fun': <function __main__.<lambda>>, 'type': 'eq'},\n",
        " {'fun': <function __main__.<lambda>>, 'type': 'ineq'})"
       ]
      }
     ],
     "prompt_number": 60
    },
    {
     "cell_type": "code",
     "collapsed": false,
     "input": [
      "start_coord = (15, 25) \n",
      "end_coord = (16, 28)"
     ],
     "language": "python",
     "metadata": {},
     "outputs": [],
     "prompt_number": 64
    },
    {
     "cell_type": "code",
     "collapsed": false,
     "input": [
      "initial_guess = np.array([math.pi])\n",
      "result = minimize(minimize_func, initial_guess, constraints = cons, method='SLSQP', options={'disp': True})\n",
      "out_angle = result.x"
     ],
     "language": "python",
     "metadata": {},
     "outputs": [
      {
       "output_type": "stream",
       "stream": "stdout",
       "text": [
        "Optimization terminated successfully.    (Exit mode 0)\n",
        "            Current function value: [ 1.18955049]\n",
        "            Iterations: 6\n",
        "            Function evaluations: 19\n",
        "            Gradient evaluations: 6\n"
       ]
      }
     ],
     "prompt_number": 65
    },
    {
     "cell_type": "code",
     "collapsed": false,
     "input": [
      "out_angle"
     ],
     "language": "python",
     "metadata": {},
     "outputs": [
      {
       "metadata": {},
       "output_type": "pyout",
       "prompt_number": 66,
       "text": [
        "array([ 3.92699082])"
       ]
      }
     ],
     "prompt_number": 66
    },
    {
     "cell_type": "code",
     "collapsed": false,
     "input": [
      "testval=2\n",
      "new_array = np.array([(Xdistance/(20*np.cos(testval)+Xcurrent))*20*np.sin(testval) + (Xdistance/(20*np.cos(testval)+Xcurrent))*Ycurrent - Ydistance])\n",
      "new_array.shape"
     ],
     "language": "python",
     "metadata": {},
     "outputs": [
      {
       "metadata": {},
       "output_type": "pyout",
       "prompt_number": 26,
       "text": [
        "(1,)"
       ]
      }
     ],
     "prompt_number": 26
    },
    {
     "cell_type": "code",
     "collapsed": false,
     "input": [
      "initial_guess.shape"
     ],
     "language": "python",
     "metadata": {},
     "outputs": [
      {
       "metadata": {},
       "output_type": "pyout",
       "prompt_number": 27,
       "text": [
        "(1,)"
       ]
      }
     ],
     "prompt_number": 27
    },
    {
     "cell_type": "code",
     "collapsed": false,
     "input": [
      " test_out = minimize_func(math.pi)"
     ],
     "language": "python",
     "metadata": {},
     "outputs": [],
     "prompt_number": 28
    },
    {
     "cell_type": "code",
     "collapsed": false,
     "input": [
      "test_out.shape"
     ],
     "language": "python",
     "metadata": {},
     "outputs": [
      {
       "metadata": {},
       "output_type": "pyout",
       "prompt_number": 29,
       "text": [
        "(1,)"
       ]
      }
     ],
     "prompt_number": 29
    },
    {
     "cell_type": "code",
     "collapsed": false,
     "input": [
      "def constraints(theta):\n",
      "    global start_coord, end_coord, currentdict\n",
      "    \n",
      "    Xcurrent, Ycurrent = average_current(start_coord, end_coord, currentdict)\n",
      "    \n",
      "    Xconstraint = np.array([(Xdistance/(20*np.cos(theta)+Xcurrent))*20*np.sin(theta) \n",
      "                                                    + (Xdistance/(20*np.cos(theta)+Xcurrent))*Ycurrent - Ydistance]) \n",
      "    Yconstraint = \n",
      "    \n",
      "    return np.array([days])"
     ],
     "language": "python",
     "metadata": {},
     "outputs": []
    },
    {
     "cell_type": "code",
     "collapsed": false,
     "input": [
      "np.tan(math.pi/2)"
     ],
     "language": "python",
     "metadata": {},
     "outputs": [
      {
       "metadata": {},
       "output_type": "pyout",
       "prompt_number": 5,
       "text": [
        "16331239353195370.0"
       ]
      }
     ],
     "prompt_number": 5
    },
    {
     "cell_type": "code",
     "collapsed": false,
     "input": [],
     "language": "python",
     "metadata": {},
     "outputs": []
    }
   ],
   "metadata": {}
  }
 ]
}