{
 "metadata": {
  "name": "",
  "signature": "sha256:5b28a1c1315197490a622bc043b70a656b2116369820f784136a63b29ef94b23"
 },
 "nbformat": 3,
 "nbformat_minor": 0,
 "worksheets": [
  {
   "cells": [
    {
     "cell_type": "heading",
     "level": 3,
     "metadata": {},
     "source": [
      "Tombe Recreation"
     ]
    },
    {
     "cell_type": "heading",
     "level": 4,
     "metadata": {},
     "source": [
      "Data and Parameters"
     ]
    },
    {
     "cell_type": "code",
     "collapsed": false,
     "input": [
      "#Import relevant modules \n",
      "import numpy as np\n",
      "\n",
      "import pandas as pd\n",
      "\n",
      "from scipy.linalg import inv, solve, det\n",
      "\n",
      "from __future__ import division"
     ],
     "language": "python",
     "metadata": {},
     "outputs": [],
     "prompt_number": 1
    },
    {
     "cell_type": "code",
     "collapsed": false,
     "input": [
      "#List of Countries and Sectors\n",
      "NumCountries=2        #number of countries in data\n",
      "countrylist = pd.Series(['Country{0}'.format(i+1) for i in range(NumCountries) ])\n",
      "\n",
      "sectorlist=pd.Series(['Ag', 'Man', 'Ser'])"
     ],
     "language": "python",
     "metadata": {},
     "outputs": [],
     "prompt_number": 2
    },
    {
     "cell_type": "code",
     "collapsed": false,
     "input": [
      "# Seed for Random Number Generator\n",
      "np.random.seed(seed=2005)"
     ],
     "language": "python",
     "metadata": {},
     "outputs": [],
     "prompt_number": 145
    },
    {
     "cell_type": "code",
     "collapsed": false,
     "input": [
      "#Fake data vectors:  Ln, TradeShare, and, FoodShare\n",
      "Population=pd.Series(np.ones(NumCountries), index=countrylist, name = 'Population Size') \n",
      "\n",
      "TradeshareAg = np.array(np.ones(NumCountries**2))*(1/NumCountries)   #element ij is share of j in spending of i\n",
      "TradeshareAg.shape=(NumCountries, NumCountries)\n",
      "TradeshareAg=pd.DataFrame(TradeshareAg)\n",
      "TradeshareAg.index=countrylist\n",
      "TradeshareAg.columns=countrylist\n",
      "TradeshareAg.name='Share of Ag from column j in spending of row i' \n",
      "\n",
      "TradeshareMan= np.array(np.ones(NumCountries**2))*(1/NumCountries)   #element ij is share of j in spending of i\n",
      "TradeshareMan.shape=(NumCountries, NumCountries)\n",
      "TradeshareMan=pd.DataFrame(TradeshareMan)\n",
      "TradeshareMan.index=countrylist\n",
      "TradeshareMan.columns=countrylist\n",
      "TradeshareMan.name='Share of Man from column j in spending of row i' \n",
      "\n",
      "\n",
      "TradeshareSer=pd.DataFrame(np.identity(NumCountries))\n",
      "TradeshareSer.index=countrylist\n",
      "TradeshareSer.columns=countrylist\n",
      "TradeshareSer.name='Share of Ser from column j in spending of row i' "
     ],
     "language": "python",
     "metadata": {},
     "outputs": [],
     "prompt_number": 39
    },
    {
     "cell_type": "code",
     "collapsed": false,
     "input": [
      "TradeShare={}\n",
      "TradeShare['Ag']=TradeshareAg\n",
      "TradeShare['Man']=TradeshareMan\n",
      "TradeShare['Ser']=TradeshareSer\n",
      "TradeShare"
     ],
     "language": "python",
     "metadata": {},
     "outputs": [
      {
       "metadata": {},
       "output_type": "pyout",
       "prompt_number": 40,
       "text": [
        "{'Ag':           Country1  Country2\n",
        " Country1       0.5       0.5\n",
        " Country2       0.5       0.5, 'Man':           Country1  Country2\n",
        " Country1       0.5       0.5\n",
        " Country2       0.5       0.5, 'Ser':           Country1  Country2\n",
        " Country1         1         0\n",
        " Country2         0         1}"
       ]
      }
     ],
     "prompt_number": 40
    },
    {
     "cell_type": "code",
     "collapsed": false,
     "input": [
      "FoodShare=pd.Series(np.random.random(2), name='Share of Ag in Total Exp', index=countrylist)\n",
      "\n",
      "wages=pd.Series(np.random.random(2), name='Wages', index=countrylist)\n",
      "\n",
      "littleL=pd.Series(np.random.random(2), name='Ag Labor Share', index=countrylist)"
     ],
     "language": "python",
     "metadata": {},
     "outputs": [],
     "prompt_number": 41
    },
    {
     "cell_type": "code",
     "collapsed": false,
     "input": [
      "#Create Exogeneous Parameters\n",
      "epsilon = pd.Series([0.01, 0.24, 0.75], name='Epsilon')\n",
      "epsilon.index=sectorlist\n",
      "\n",
      "\n",
      "theta=pd.Series([4.06, 4.63], name = 'Theta')\n",
      "theta.index=('Ag', 'Man')\n",
      "\n",
      "xsi = pd.Series(np.random.random(NumCountries), name='Xsi')     #Change to data when have all countries\n",
      "xsi.index = countrylist"
     ],
     "language": "python",
     "metadata": {},
     "outputs": [],
     "prompt_number": 42
    },
    {
     "cell_type": "code",
     "collapsed": false,
     "input": [
      "#Table 2 from Tombe\n",
      "beta=0.65\n",
      "\n",
      "phi=pd.Series([.50, .35, .59], name='VA Share')\n",
      "phi.index=sectorlist\n",
      "\n",
      "gamma=pd.DataFrame([ [.31, .06, .01], [.39, .61, .24], [.30, .33, .75]])\n",
      "gamma.columns= sectorlist\n",
      "gamma.index = sectorlist\n",
      "\n",
      "phi"
     ],
     "language": "python",
     "metadata": {},
     "outputs": [
      {
       "metadata": {},
       "output_type": "pyout",
       "prompt_number": 43,
       "text": [
        "Ag     0.50\n",
        "Man    0.35\n",
        "Ser    0.59\n",
        "Name: VA Share, dtype: float64"
       ]
      }
     ],
     "prompt_number": 43
    },
    {
     "cell_type": "code",
     "collapsed": false,
     "input": [
      "#Combines the Coefficients from equations (10) and (12)\n",
      "\n",
      "#Initialize coefficient matrix\n",
      "coeff_matrix = np.ones(3*NumCountries)\n",
      "coeff_matrix.shape=(1, 3*NumCountries)\n",
      "coeff_matrix=pd.DataFrame(coeff_matrix, index=['Initialize'])\n",
      "\n",
      "for source in countrylist:\n",
      "    \n",
      "    for prod_sector in sectorlist:\n",
      "        new_row = []\n",
      "        new_index='{0}_{1}'.format(source, prod_sector)\n",
      "        \n",
      "        for use_sector in sectorlist:\n",
      "            phiK = phi[use_sector]\n",
      "            gammaKJ = gamma.ix[prod_sector:prod_sector, [use_sector]]\n",
      "            gammaKJ=float(np.array(gammaKJ))\n",
      "            pi_mat = TradeShare[use_sector]\n",
      "\n",
      "        \n",
      "            for destination in countrylist:\n",
      "                pi = pi_mat.ix[destination:destination, [source]]\n",
      "                pi = float(np.array(pi))\n",
      "                new_coeff=phiK*gammaKJ*pi\n",
      "        \n",
      "                new_row.append(new_coeff)\n",
      "    \n",
      "        # Format new_row and add to matrix of coefficients\n",
      "        new_row=np.array(new_row)\n",
      "        new_row.shape=(1, NumCountries*3)\n",
      "        new_row=pd.DataFrame(new_row, index=[new_index])\n",
      "        coeff_matrix = pd.concat([coeff_matrix, new_row], axis=0)\n",
      "    \n",
      "    \n",
      "coeff_matrix = coeff_matrix.drop('Initialize')\n",
      "\n",
      "\n"
     ],
     "language": "python",
     "metadata": {},
     "outputs": [],
     "prompt_number": 44
    },
    {
     "cell_type": "code",
     "collapsed": false,
     "input": [
      "#Create Columns\n",
      "long_columns=[]\n",
      "for sector in sectorlist:\n",
      "    for country in countrylist:\n",
      "        new_entry='{0}_{1}'.format(country, sector)\n",
      "        long_columns.append(new_entry)\n",
      "        \n",
      "coeff_matrix.columns = long_columns"
     ],
     "language": "python",
     "metadata": {},
     "outputs": [],
     "prompt_number": 45
    },
    {
     "cell_type": "code",
     "collapsed": false,
     "input": [
      "coeff_matrix"
     ],
     "language": "python",
     "metadata": {},
     "outputs": [
      {
       "html": [
        "<div style=\"max-height:1000px;max-width:1500px;overflow:auto;\">\n",
        "<table border=\"1\" class=\"dataframe\">\n",
        "  <thead>\n",
        "    <tr style=\"text-align: right;\">\n",
        "      <th></th>\n",
        "      <th>Country1_Ag</th>\n",
        "      <th>Country2_Ag</th>\n",
        "      <th>Country1_Man</th>\n",
        "      <th>Country2_Man</th>\n",
        "      <th>Country1_Ser</th>\n",
        "      <th>Country2_Ser</th>\n",
        "    </tr>\n",
        "  </thead>\n",
        "  <tbody>\n",
        "    <tr>\n",
        "      <th>Country1_Ag</th>\n",
        "      <td> 0.0775</td>\n",
        "      <td> 0.0775</td>\n",
        "      <td> 0.01050</td>\n",
        "      <td> 0.01050</td>\n",
        "      <td> 0.0059</td>\n",
        "      <td> 0.0000</td>\n",
        "    </tr>\n",
        "    <tr>\n",
        "      <th>Country1_Man</th>\n",
        "      <td> 0.0975</td>\n",
        "      <td> 0.0975</td>\n",
        "      <td> 0.10675</td>\n",
        "      <td> 0.10675</td>\n",
        "      <td> 0.1416</td>\n",
        "      <td> 0.0000</td>\n",
        "    </tr>\n",
        "    <tr>\n",
        "      <th>Country1_Ser</th>\n",
        "      <td> 0.0750</td>\n",
        "      <td> 0.0750</td>\n",
        "      <td> 0.05775</td>\n",
        "      <td> 0.05775</td>\n",
        "      <td> 0.4425</td>\n",
        "      <td> 0.0000</td>\n",
        "    </tr>\n",
        "    <tr>\n",
        "      <th>Country2_Ag</th>\n",
        "      <td> 0.0775</td>\n",
        "      <td> 0.0775</td>\n",
        "      <td> 0.01050</td>\n",
        "      <td> 0.01050</td>\n",
        "      <td> 0.0000</td>\n",
        "      <td> 0.0059</td>\n",
        "    </tr>\n",
        "    <tr>\n",
        "      <th>Country2_Man</th>\n",
        "      <td> 0.0975</td>\n",
        "      <td> 0.0975</td>\n",
        "      <td> 0.10675</td>\n",
        "      <td> 0.10675</td>\n",
        "      <td> 0.0000</td>\n",
        "      <td> 0.1416</td>\n",
        "    </tr>\n",
        "    <tr>\n",
        "      <th>Country2_Ser</th>\n",
        "      <td> 0.0750</td>\n",
        "      <td> 0.0750</td>\n",
        "      <td> 0.05775</td>\n",
        "      <td> 0.05775</td>\n",
        "      <td> 0.0000</td>\n",
        "      <td> 0.4425</td>\n",
        "    </tr>\n",
        "  </tbody>\n",
        "</table>\n",
        "</div>"
       ],
       "metadata": {},
       "output_type": "pyout",
       "prompt_number": 46,
       "text": [
        "              Country1_Ag  Country2_Ag  Country1_Man  Country2_Man  \\\n",
        "Country1_Ag        0.0775       0.0775       0.01050       0.01050   \n",
        "Country1_Man       0.0975       0.0975       0.10675       0.10675   \n",
        "Country1_Ser       0.0750       0.0750       0.05775       0.05775   \n",
        "Country2_Ag        0.0775       0.0775       0.01050       0.01050   \n",
        "Country2_Man       0.0975       0.0975       0.10675       0.10675   \n",
        "Country2_Ser       0.0750       0.0750       0.05775       0.05775   \n",
        "\n",
        "              Country1_Ser  Country2_Ser  \n",
        "Country1_Ag         0.0059        0.0000  \n",
        "Country1_Man        0.1416        0.0000  \n",
        "Country1_Ser        0.4425        0.0000  \n",
        "Country2_Ag         0.0000        0.0059  \n",
        "Country2_Man        0.0000        0.1416  \n",
        "Country2_Ser        0.0000        0.4425  "
       ]
      }
     ],
     "prompt_number": 46
    },
    {
     "cell_type": "heading",
     "level": 4,
     "metadata": {},
     "source": [
      "Direct Calcultions from data and exogeneous parameters"
     ]
    },
    {
     "cell_type": "code",
     "collapsed": false,
     "input": [
      "#These are the coefficients on I_n from equation (6)\n",
      "\n",
      "ManShare=epsilon['Man']*(1-FoodShare)/(1-epsilon['Ag'])\n",
      "ManShare.name='Share of Man in Total Exp'\n",
      "\n",
      "SerShare=epsilon['Ser']*(1-FoodShare)/(1-epsilon['Ag'])\n",
      "SerShare.name='Share of Ser in Total Exp'\n",
      "\n",
      "\n",
      "ExpShare = pd.concat([FoodShare, ManShare], axis=1)\n",
      "ExpShare = pd.concat([ExpShare, SerShare], axis=1)\n",
      "ExpShare.columns = sectorlist\n",
      "ExpShare.name = 'Expenditure Shares'\n",
      "print ExpShare"
     ],
     "language": "python",
     "metadata": {},
     "outputs": [
      {
       "output_type": "stream",
       "stream": "stdout",
       "text": [
        "                Ag       Man       Ser\n",
        "Country1  0.493106  0.122883  0.384011\n",
        "Country2  0.143798  0.207564  0.648638\n"
       ]
      }
     ],
     "prompt_number": 47
    },
    {
     "cell_type": "heading",
     "level": 4,
     "metadata": {},
     "source": [
      "Preallocate Decision Variables"
     ]
    },
    {
     "cell_type": "code",
     "collapsed": false,
     "input": [
      "Income=np.ones(NumCountries)\n",
      "\n",
      "DnAg=np.ones(NumCountries)\n",
      "DnM=np.ones(NumCountries)\n",
      "DnS=np.ones(NumCountries)\n",
      "\n",
      "RnAg=np.ones(NumCountries)\n",
      "RnM=np.ones(NumCountries)\n",
      "RnS=np.ones(NumCountries)\n",
      "\n",
      "littleL=np.ones(NumCountries)\n",
      "\n",
      "XAg=np.ones(NumCountries)\n",
      "XM=np.ones(NumCountries)\n",
      "XS=np.ones(NumCountries)"
     ],
     "language": "python",
     "metadata": {},
     "outputs": [],
     "prompt_number": 48
    },
    {
     "cell_type": "heading",
     "level": 4,
     "metadata": {},
     "source": [
      "Define Functions"
     ]
    },
    {
     "cell_type": "code",
     "collapsed": false,
     "input": [
      "def income_calc(in_littleL):\n",
      "    lambdaN=np.ones(NumCountries)-in_littleL*(np.ones(NumCountries)-xsi)\n",
      "    out_income = pd.DataFrame(wages*Population*lambdaN/beta, columns=['Income'])\n",
      "    return out_income"
     ],
     "language": "python",
     "metadata": {},
     "outputs": [],
     "prompt_number": 49
    },
    {
     "cell_type": "code",
     "collapsed": false,
     "input": [
      "def expenditure(in_littleL, in_income):  \n",
      "    \n",
      "    global ExpShare\n",
      "    global sectorlist\n",
      "    out_expenditure=np.array([1, 1, 1])\n",
      "    out_expenditure.shape=(1,3)\n",
      "    out_expenditure=pd.DataFrame(out_expenditure, index=['Initialize'], columns=sectorlist)\n",
      "    \n",
      "    for country in countrylist:\n",
      "        country_income = float(np.array(in_income[country:country]))\n",
      "        country_expshare = np.array(ExpShare[country:country])\n",
      "        country_expenditure = country_income*country_expshare\n",
      "        country_expenditure = pd.DataFrame(country_expenditure, columns=sectorlist, index=[country])\n",
      "        out_expenditure=pd.concat([out_expenditure, country_expenditure], axis=0)\n",
      "    \n",
      "    out_expenditure=out_expenditure.drop('Initialize')\n",
      "    \n",
      "    return out_expenditure\n",
      "    "
     ],
     "language": "python",
     "metadata": {},
     "outputs": [],
     "prompt_number": 50
    },
    {
     "cell_type": "code",
     "collapsed": false,
     "input": [
      "income = income_calc(littleL)"
     ],
     "language": "python",
     "metadata": {},
     "outputs": [],
     "prompt_number": 51
    },
    {
     "cell_type": "code",
     "collapsed": false,
     "input": [
      "test = expenditure(littleL, income)\n",
      "test"
     ],
     "language": "python",
     "metadata": {},
     "outputs": [
      {
       "html": [
        "<div style=\"max-height:1000px;max-width:1500px;overflow:auto;\">\n",
        "<table border=\"1\" class=\"dataframe\">\n",
        "  <thead>\n",
        "    <tr style=\"text-align: right;\">\n",
        "      <th></th>\n",
        "      <th>Ag</th>\n",
        "      <th>Man</th>\n",
        "      <th>Ser</th>\n",
        "    </tr>\n",
        "  </thead>\n",
        "  <tbody>\n",
        "    <tr>\n",
        "      <th>Country1</th>\n",
        "      <td> 0.295995</td>\n",
        "      <td> 0.073763</td>\n",
        "      <td> 0.230509</td>\n",
        "    </tr>\n",
        "    <tr>\n",
        "      <th>Country2</th>\n",
        "      <td> 0.002416</td>\n",
        "      <td> 0.003488</td>\n",
        "      <td> 0.010900</td>\n",
        "    </tr>\n",
        "  </tbody>\n",
        "</table>\n",
        "</div>"
       ],
       "metadata": {},
       "output_type": "pyout",
       "prompt_number": 52,
       "text": [
        "                Ag       Man       Ser\n",
        "Country1  0.295995  0.073763  0.230509\n",
        "Country2  0.002416  0.003488  0.010900"
       ]
      }
     ],
     "prompt_number": 52
    },
    {
     "cell_type": "code",
     "collapsed": false,
     "input": [
      "def reshape_expenditure(in_expenditure):\n",
      "    \n",
      "    out_matrix = pd.DataFrame(np.ones(1), index=['Initialize'])\n",
      "    for sector in sectorlist:\n",
      "        new_entries = in_expenditure.pop(sector)\n",
      "        new_entries.columns = ['newcol']\n",
      "        new_entries_index = ['{0}_{1}'.format(country, sector) for country in countrylist]\n",
      "        new_entries.index = new_entries_index\n",
      "        out_matrix = pd.concat([out_matrix, new_entries], axis=0)\n",
      "        \n",
      "    out_matrix = out_matrix.drop('Initialize')\n",
      "    out_matrix.columns = ['Expenditure']\n",
      "    return out_matrix\n",
      "        "
     ],
     "language": "python",
     "metadata": {},
     "outputs": [],
     "prompt_number": 53
    },
    {
     "cell_type": "code",
     "collapsed": false,
     "input": [
      "#reshape_expenditure(test)"
     ],
     "language": "python",
     "metadata": {},
     "outputs": [],
     "prompt_number": 54
    },
    {
     "cell_type": "code",
     "collapsed": false,
     "input": [
      "def production(in_expenditure):\n",
      "    \n",
      "    ''' \n",
      "    This function solves simulateously for all the production combinations X_n^j.\n",
      "    It does so by substituting (10) into (12) and creating a matrix where X_n^j\n",
      "    '''\n",
      "    global coeff_matrix\n",
      "    global long_columns\n",
      "    \n",
      "    Expenditures = reshape_expenditure(in_expenditure)\n",
      "    \n",
      "    LHS = np.identity(NumCountries*3)-coeff_matrix\n",
      "    \n",
      "    X_matrix = solve(LHS, Expenditures)\n",
      "\n",
      "    X_matrix = pd.DataFrame(X_matrix, index=long_columns)\n",
      "    \n",
      "    X_matrix.columns = ['Production']\n",
      "    \n",
      "    return X_matrix\n",
      "    \n"
     ],
     "language": "python",
     "metadata": {},
     "outputs": [],
     "prompt_number": 55
    },
    {
     "cell_type": "code",
     "collapsed": false,
     "input": [
      "test"
     ],
     "language": "python",
     "metadata": {},
     "outputs": [
      {
       "html": [
        "<div style=\"max-height:1000px;max-width:1500px;overflow:auto;\">\n",
        "<table border=\"1\" class=\"dataframe\">\n",
        "  <thead>\n",
        "    <tr style=\"text-align: right;\">\n",
        "      <th></th>\n",
        "      <th>Ag</th>\n",
        "      <th>Man</th>\n",
        "      <th>Ser</th>\n",
        "    </tr>\n",
        "  </thead>\n",
        "  <tbody>\n",
        "    <tr>\n",
        "      <th>Country1</th>\n",
        "      <td> 0.295995</td>\n",
        "      <td> 0.073763</td>\n",
        "      <td> 0.230509</td>\n",
        "    </tr>\n",
        "    <tr>\n",
        "      <th>Country2</th>\n",
        "      <td> 0.002416</td>\n",
        "      <td> 0.003488</td>\n",
        "      <td> 0.010900</td>\n",
        "    </tr>\n",
        "  </tbody>\n",
        "</table>\n",
        "</div>"
       ],
       "metadata": {},
       "output_type": "pyout",
       "prompt_number": 56,
       "text": [
        "                Ag       Man       Ser\n",
        "Country1  0.295995  0.073763  0.230509\n",
        "Country2  0.002416  0.003488  0.010900"
       ]
      }
     ],
     "prompt_number": 56
    },
    {
     "cell_type": "code",
     "collapsed": false,
     "input": [
      "output_test = production(test)"
     ],
     "language": "python",
     "metadata": {},
     "outputs": [],
     "prompt_number": 57
    },
    {
     "cell_type": "code",
     "collapsed": false,
     "input": [
      "output_test"
     ],
     "language": "python",
     "metadata": {},
     "outputs": [
      {
       "html": [
        "<div style=\"max-height:1000px;max-width:1500px;overflow:auto;\">\n",
        "<table border=\"1\" class=\"dataframe\">\n",
        "  <thead>\n",
        "    <tr style=\"text-align: right;\">\n",
        "      <th></th>\n",
        "      <th>Production</th>\n",
        "    </tr>\n",
        "  </thead>\n",
        "  <tbody>\n",
        "    <tr>\n",
        "      <th>Country1_Ag</th>\n",
        "      <td> 0.337222</td>\n",
        "    </tr>\n",
        "    <tr>\n",
        "      <th>Country2_Ag</th>\n",
        "      <td> 0.127369</td>\n",
        "    </tr>\n",
        "    <tr>\n",
        "      <th>Country1_Man</th>\n",
        "      <td> 0.270830</td>\n",
        "    </tr>\n",
        "    <tr>\n",
        "      <th>Country2_Man</th>\n",
        "      <td> 0.043470</td>\n",
        "    </tr>\n",
        "    <tr>\n",
        "      <th>Country1_Ser</th>\n",
        "      <td> 0.325587</td>\n",
        "    </tr>\n",
        "    <tr>\n",
        "      <th>Country2_Ser</th>\n",
        "      <td> 0.114610</td>\n",
        "    </tr>\n",
        "  </tbody>\n",
        "</table>\n",
        "</div>"
       ],
       "metadata": {},
       "output_type": "pyout",
       "prompt_number": 58,
       "text": [
        "              Production\n",
        "Country1_Ag     0.337222\n",
        "Country2_Ag     0.127369\n",
        "Country1_Man    0.270830\n",
        "Country2_Man    0.043470\n",
        "Country1_Ser    0.325587\n",
        "Country2_Ser    0.114610"
       ]
      }
     ],
     "prompt_number": 58
    },
    {
     "cell_type": "code",
     "collapsed": false,
     "input": [
      "def reshape_production(in_production):\n",
      "    out_production = np.ones(3)\n",
      "    out_production.shape = (1, 3)\n",
      "    out_production = pd.DataFrame(out_production, index = ['Initialize'])\n",
      "    out_production.columns = sectorlist\n",
      "    for country in countrylist:\n",
      "        new_row=[]\n",
      "        for sector in sectorlist:\n",
      "            key = '{0}_{1}'.format(country, sector)\n",
      "            new_entry = float(in_production.ix[key])\n",
      "            new_row.append(new_entry)\n",
      "            \n",
      "        new_row = np.array(new_row)\n",
      "        new_row.shape=(1,3)\n",
      "        new_row = pd.DataFrame(new_row, index = [country])\n",
      "        new_row.columns = sectorlist\n",
      "        out_production = pd.concat([out_production, new_row], axis=0)\n",
      "        \n",
      "    out_production = out_production.drop('Initialize')\n",
      "    return out_production"
     ],
     "language": "python",
     "metadata": {},
     "outputs": [],
     "prompt_number": 59
    },
    {
     "cell_type": "code",
     "collapsed": false,
     "input": [
      "reshape_production(output_test)"
     ],
     "language": "python",
     "metadata": {},
     "outputs": [
      {
       "html": [
        "<div style=\"max-height:1000px;max-width:1500px;overflow:auto;\">\n",
        "<table border=\"1\" class=\"dataframe\">\n",
        "  <thead>\n",
        "    <tr style=\"text-align: right;\">\n",
        "      <th></th>\n",
        "      <th>Ag</th>\n",
        "      <th>Man</th>\n",
        "      <th>Ser</th>\n",
        "    </tr>\n",
        "  </thead>\n",
        "  <tbody>\n",
        "    <tr>\n",
        "      <th>Country1</th>\n",
        "      <td> 0.337222</td>\n",
        "      <td> 0.27083</td>\n",
        "      <td> 0.325587</td>\n",
        "    </tr>\n",
        "    <tr>\n",
        "      <th>Country2</th>\n",
        "      <td> 0.127369</td>\n",
        "      <td> 0.04347</td>\n",
        "      <td> 0.114610</td>\n",
        "    </tr>\n",
        "  </tbody>\n",
        "</table>\n",
        "</div>"
       ],
       "metadata": {},
       "output_type": "pyout",
       "prompt_number": 60,
       "text": [
        "                Ag      Man       Ser\n",
        "Country1  0.337222  0.27083  0.325587\n",
        "Country2  0.127369  0.04347  0.114610"
       ]
      }
     ],
     "prompt_number": 60
    },
    {
     "cell_type": "code",
     "collapsed": false,
     "input": [
      "def calc_revenue(in_production):\n",
      "    global TradeShare\n",
      "    global countrylist\n",
      "    global sectorlist\n",
      "    \n",
      "    production_matrix = reshape_production(in_production)\n",
      "    new_revenue_dict = {}\n",
      "    \n",
      "    \n",
      "    for sector in sectorlist:\n",
      "        production_vector = production_matrix[sector]\n",
      "        new_column=[]\n",
      "        \n",
      "        for country in countrylist:\n",
      "            pi_matrix = TradeShare[sector]\n",
      "            pi_vector = pi_matrix[country]\n",
      "            new_revenue = np.dot(pi_vector, production_vector)\n",
      "            new_column.append(new_revenue)\n",
      "        \n",
      "        new_column = np.array(new_column)\n",
      "        new_column.shape = (NumCountries, 1)\n",
      "        new_column = pd.DataFrame(new_column, index=countrylist)\n",
      "        new_column.columns = [sector]\n",
      "        new_revenue_dict[sector] = new_column\n",
      "        \n",
      "    out_revenue = pd.concat([new_revenue_dict['Ag'], new_revenue_dict['Man']], axis=1)\n",
      "    out_revenue = pd.concat([out_revenue, new_revenue_dict['Ser']], axis=1)\n",
      "    return out_revenue\n",
      "        \n",
      "            "
     ],
     "language": "python",
     "metadata": {},
     "outputs": [],
     "prompt_number": 65
    },
    {
     "cell_type": "code",
     "collapsed": false,
     "input": [
      "new_test = calc_revenue(output_test)\n",
      "new_test"
     ],
     "language": "python",
     "metadata": {},
     "outputs": [
      {
       "html": [
        "<div style=\"max-height:1000px;max-width:1500px;overflow:auto;\">\n",
        "<table border=\"1\" class=\"dataframe\">\n",
        "  <thead>\n",
        "    <tr style=\"text-align: right;\">\n",
        "      <th></th>\n",
        "      <th>Ag</th>\n",
        "      <th>Man</th>\n",
        "      <th>Ser</th>\n",
        "    </tr>\n",
        "  </thead>\n",
        "  <tbody>\n",
        "    <tr>\n",
        "      <th>Country1</th>\n",
        "      <td> 0.232296</td>\n",
        "      <td> 0.15715</td>\n",
        "      <td> 0.325587</td>\n",
        "    </tr>\n",
        "    <tr>\n",
        "      <th>Country2</th>\n",
        "      <td> 0.232296</td>\n",
        "      <td> 0.15715</td>\n",
        "      <td> 0.114610</td>\n",
        "    </tr>\n",
        "  </tbody>\n",
        "</table>\n",
        "</div>"
       ],
       "metadata": {},
       "output_type": "pyout",
       "prompt_number": 72,
       "text": [
        "                Ag      Man       Ser\n",
        "Country1  0.232296  0.15715  0.325587\n",
        "Country2  0.232296  0.15715  0.114610"
       ]
      }
     ],
     "prompt_number": 72
    },
    {
     "cell_type": "code",
     "collapsed": false,
     "input": [
      "xsi"
     ],
     "language": "python",
     "metadata": {},
     "outputs": [
      {
       "metadata": {},
       "output_type": "pyout",
       "prompt_number": 73,
       "text": [
        "Country1    0.414309\n",
        "Country2    0.154016\n",
        "Name: Xsi, dtype: float64"
       ]
      }
     ],
     "prompt_number": 73
    },
    {
     "cell_type": "code",
     "collapsed": false,
     "input": [
      "def calc_littleL(in_revenue):\n",
      "    \n",
      "    global xsi\n",
      "    \n",
      "    out_littleL = []\n",
      "    \n",
      "    for country in countrylist:\n",
      "        xsi_n = float(xsi[country])\n",
      "        revenue_ag = float(np.array(in_revenue.ix[country:country, ['Ag']]))\n",
      "        revenue_man = float(np.array(in_revenue.ix[country:country, ['Man']]))\n",
      "        revenue_ser = float(np.array(in_revenue.ix[country:country, ['Ser']]))\n",
      "        \n",
      "        numerator = xsi_n*(phi['Man']*revenue_man + phi['Ser']*revenue_ser )\n",
      "        demoninator = phi['Ser']*revenue_ser\n",
      "        inside = 1+numerator/demoninator\n",
      "        new_entry = float(inside**(-1))\n",
      "        \n",
      "        out_littleL.append(new_entry)\n",
      "        \n",
      "    out_littleL = np.asarray(out_littleL)\n",
      "    out_littleL.shape = (NumCountries, 1)\n",
      "    out_littleL = pd.DataFrame(out_littleL, index = countrylist)\n",
      "    out_littleL.columns = ['Ag Labor Share']\n",
      "\n",
      "    \n",
      "    return out_littleL"
     ],
     "language": "python",
     "metadata": {},
     "outputs": [],
     "prompt_number": 122
    },
    {
     "cell_type": "code",
     "collapsed": false,
     "input": [
      "last_output = calc_littleL(new_test)\n",
      "last_output"
     ],
     "language": "python",
     "metadata": {},
     "outputs": [
      {
       "html": [
        "<div style=\"max-height:1000px;max-width:1500px;overflow:auto;\">\n",
        "<table border=\"1\" class=\"dataframe\">\n",
        "  <thead>\n",
        "    <tr style=\"text-align: right;\">\n",
        "      <th></th>\n",
        "      <th>Ag Labor Share</th>\n",
        "    </tr>\n",
        "  </thead>\n",
        "  <tbody>\n",
        "    <tr>\n",
        "      <th>Country1</th>\n",
        "      <td> 0.652342</td>\n",
        "    </tr>\n",
        "    <tr>\n",
        "      <th>Country2</th>\n",
        "      <td> 0.781681</td>\n",
        "    </tr>\n",
        "  </tbody>\n",
        "</table>\n",
        "</div>"
       ],
       "metadata": {},
       "output_type": "pyout",
       "prompt_number": 124,
       "text": [
        "          Ag Labor Share\n",
        "Country1        0.652342\n",
        "Country2        0.781681"
       ]
      }
     ],
     "prompt_number": 124
    },
    {
     "cell_type": "heading",
     "level": 4,
     "metadata": {},
     "source": [
      "Iteration"
     ]
    }
   ],
   "metadata": {}
  }
 ]
}