{
 "metadata": {
  "name": "",
  "signature": "sha256:b57c2edbd8c1a8e85c61be510a6082e5c883c410578b4663ac870891852e1f07"
 },
 "nbformat": 3,
 "nbformat_minor": 0,
 "worksheets": [
  {
   "cells": [
    {
     "cell_type": "heading",
     "level": 3,
     "metadata": {},
     "source": [
      "Tombe Recreation"
     ]
    },
    {
     "cell_type": "heading",
     "level": 4,
     "metadata": {},
     "source": [
      "Data and Parameters"
     ]
    },
    {
     "cell_type": "code",
     "collapsed": false,
     "input": [
      "#Import relevant modules \n",
      "import numpy as np\n",
      "import pandas as pd\n",
      "from __future__ import division"
     ],
     "language": "python",
     "metadata": {},
     "outputs": [],
     "prompt_number": 1
    },
    {
     "cell_type": "code",
     "collapsed": false,
     "input": [
      "#List of Countries and Sectors\n",
      "NumCountries=2        #number of countries in data\n",
      "countrylist = pd.Series(['Country{0}'.format(i+1) for i in range(NumCountries) ])\n",
      "\n",
      "sectorlist=pd.Series(['Ag', 'Man', 'Ser'])"
     ],
     "language": "python",
     "metadata": {},
     "outputs": [],
     "prompt_number": 3
    },
    {
     "cell_type": "code",
     "collapsed": false,
     "input": [
      "#Fake data vectors:  Ln, TradeShare, and, FoodShare\n",
      "Population=pd.Series(np.ones(NumCountries), index=countrylist, name = 'Population Size') \n",
      "\n",
      "TradeshareAg = np.array(np.ones(NumCountries**2))*(1/NumCountries)   #element ij is share of j in spending of i\n",
      "TradeshareAg.shape=(NumCountries, NumCountries)\n",
      "TradeshareAg=pd.DataFrame(TradeshareAg)\n",
      "TradeshareAg.index=countrylist\n",
      "TradeshareAg.columns=countrylist\n",
      "TradeshareAg.name='Share of Ag from column j in spending of row i' \n",
      "\n",
      "TradeshareMan= np.array(np.ones(NumCountries**2))*(1/NumCountries)   #element ij is share of j in spending of i\n",
      "TradeshareMan.shape=(NumCountries, NumCountries)\n",
      "TradeshareMan=pd.DataFrame(TradeshareMan)\n",
      "TradeshareMan.index=countrylist\n",
      "TradeshareMan.columns=countrylist\n",
      "TradeshareMan.name='Share of Man from column j in spending of row i' \n",
      "\n",
      "\n",
      "TradeshareSer=pd.DataFrame(np.identity(NumCountries))\n",
      "TradeshareSer.index=countrylist\n",
      "TradeshareSer.columns=countrylist\n",
      "TradeshareSer.name='Share of Ser from column j in spending of row i' "
     ],
     "language": "python",
     "metadata": {},
     "outputs": [],
     "prompt_number": 4
    },
    {
     "cell_type": "code",
     "collapsed": false,
     "input": [
      "FoodShare=pd.Series(np.random.random(2), name='Share of Ag in Total Exp', index=countrylist)\n",
      "\n",
      "wages=pd.Series(np.random.random(2), name='Wages', index=countrylist)\n",
      "\n",
      "littleL=pd.Series(np.random.random(2), name='Ag Labor Share', index=countrylist)"
     ],
     "language": "python",
     "metadata": {},
     "outputs": [],
     "prompt_number": 99
    },
    {
     "cell_type": "code",
     "collapsed": false,
     "input": [
      "#Create Exogeneous Parameters\n",
      "epsilon = pd.Series([0.01, 0.24, 0.75], name='Epsilon')\n",
      "epsilon.index=sectorlist\n",
      "\n",
      "\n",
      "theta=pd.Series([4.06, 4.63], name = 'Theta')\n",
      "theta.index=('Ag', 'Man')\n",
      "\n",
      "xsi = pd.Series(np.random.random(NumCountries), name='Xsi')     #Change to data when have all countries\n",
      "xsi.index = countrylist"
     ],
     "language": "python",
     "metadata": {},
     "outputs": [
      {
       "output_type": "stream",
       "stream": "stdout",
       "text": [
        "Country1    0.663192\n",
        "Country2    0.051474\n",
        "Name: Xsi, dtype: float64\n"
       ]
      }
     ],
     "prompt_number": 7
    },
    {
     "cell_type": "code",
     "collapsed": false,
     "input": [
      "#Table 2 from Tombe\n",
      "beta=0.65\n",
      "\n",
      "phi=pd.Series([.50, .35, .59], name='VA Share')\n",
      "phi.index=sectorlist\n",
      "\n",
      "gamma=pd.DataFrame([ [.31, .06, .01], [.39, .61, .24], [.30, .33, .75]])\n",
      "gamma.columns= sectorlist\n",
      "gamma.index = sectorlist"
     ],
     "language": "python",
     "metadata": {},
     "outputs": [
      {
       "html": [
        "<div style=\"max-height:1000px;max-width:1500px;overflow:auto;\">\n",
        "<table border=\"1\" class=\"dataframe\">\n",
        "  <thead>\n",
        "    <tr style=\"text-align: right;\">\n",
        "      <th></th>\n",
        "      <th>Ag</th>\n",
        "      <th>Man</th>\n",
        "      <th>Ser</th>\n",
        "    </tr>\n",
        "  </thead>\n",
        "  <tbody>\n",
        "    <tr>\n",
        "      <th>Ag</th>\n",
        "      <td> 0.31</td>\n",
        "      <td> 0.06</td>\n",
        "      <td> 0.01</td>\n",
        "    </tr>\n",
        "    <tr>\n",
        "      <th>Man</th>\n",
        "      <td> 0.39</td>\n",
        "      <td> 0.61</td>\n",
        "      <td> 0.24</td>\n",
        "    </tr>\n",
        "    <tr>\n",
        "      <th>Ser</th>\n",
        "      <td> 0.30</td>\n",
        "      <td> 0.33</td>\n",
        "      <td> 0.75</td>\n",
        "    </tr>\n",
        "  </tbody>\n",
        "</table>\n",
        "</div>"
       ],
       "metadata": {},
       "output_type": "pyout",
       "prompt_number": 6,
       "text": [
        "       Ag   Man   Ser\n",
        "Ag   0.31  0.06  0.01\n",
        "Man  0.39  0.61  0.24\n",
        "Ser  0.30  0.33  0.75"
       ]
      }
     ],
     "prompt_number": 6
    },
    {
     "cell_type": "code",
     "collapsed": false,
     "input": [],
     "language": "python",
     "metadata": {},
     "outputs": []
    },
    {
     "cell_type": "heading",
     "level": 4,
     "metadata": {},
     "source": [
      "Direct Calcultions from data and exogeneous parameters"
     ]
    },
    {
     "cell_type": "code",
     "collapsed": false,
     "input": [
      "#These are the coefficients on I_n from equation (6)\n",
      "\n",
      "ManShare=epsilon['Man']*(1-FoodShare)/(1-epsilon['Ag'])\n",
      "ManShare.name='Share of Man in Total Exp'\n",
      "\n",
      "SerShare=epsilon['Ser']*(1-FoodShare)/(1-epsilon['Ag'])\n",
      "SerShare.name='Share of Ser in Total Exp'\n",
      "\n",
      "\n",
      "ExpShare = pd.concat([FoodShare, ManShare], axis=1)\n",
      "ExpShare = pd.concat([ExpShare, SerShare], axis=1)\n",
      "ExpShare.columns = sectorlist\n",
      "ExpShare.name = 'Expenditure Shares'\n",
      "print ExpShare\n",
      "float(ExpShare.ix['Country2',['Man']])"
     ],
     "language": "python",
     "metadata": {},
     "outputs": [
      {
       "output_type": "stream",
       "stream": "stdout",
       "text": [
        "                Ag       Man       Ser\n",
        "Country1  0.051978  0.229824  0.718199\n",
        "Country2  0.212316  0.190954  0.596731\n"
       ]
      },
      {
       "metadata": {},
       "output_type": "pyout",
       "prompt_number": 62,
       "text": [
        "0.19095379903226076"
       ]
      }
     ],
     "prompt_number": 62
    },
    {
     "cell_type": "code",
     "collapsed": false,
     "input": [
      "# Plugging (10) into (12) yields the following matrix of coefficients.\n",
      "# Row Correspond to X on the LHS\n",
      "# Ignores Ds, which are different for every iteration.\n",
      "\n",
      "for destination in countrylist:\n",
      "    for source in countrylist:\n",
      "        for sector in sectorlist:"
     ],
     "language": "python",
     "metadata": {},
     "outputs": []
    },
    {
     "cell_type": "heading",
     "level": 4,
     "metadata": {},
     "source": [
      "Preallocate Decision Variables"
     ]
    },
    {
     "cell_type": "code",
     "collapsed": false,
     "input": [
      "Income=np.ones(NumCountries)\n",
      "\n",
      "DnAg=np.ones(NumCountries)\n",
      "DnM=np.ones(NumCountries)\n",
      "DnS=np.ones(NumCountries)\n",
      "\n",
      "RnAg=np.ones(NumCountries)\n",
      "RnM=np.ones(NumCountries)\n",
      "RnS=np.ones(NumCountries)\n",
      "\n",
      "littleL=np.ones(NumCountries)\n",
      "\n",
      "XAg=np.ones(NumCountries)\n",
      "XM=np.ones(NumCountries)\n",
      "XS=np.ones(NumCountries)"
     ],
     "language": "python",
     "metadata": {},
     "outputs": [],
     "prompt_number": 20
    },
    {
     "cell_type": "heading",
     "level": 4,
     "metadata": {},
     "source": [
      "Define Functions"
     ]
    },
    {
     "cell_type": "code",
     "collapsed": false,
     "input": [
      "def income_calc(in_littleL):\n",
      "    lambdaN=np.ones(NumCountries)-in_littleL*(np.ones(NumCountries)-xsi)\n",
      "    out_income = pd.DataFrame(wages*Population*lambdaN/beta, columns=['Income'])\n",
      "    return out_income"
     ],
     "language": "python",
     "metadata": {},
     "outputs": [],
     "prompt_number": 87
    },
    {
     "cell_type": "code",
     "collapsed": false,
     "input": [
      "def expenditure(in_littleL, in_income):  \n",
      "    \n",
      "    global ExpShare\n",
      "    global sectorlist\n",
      "    out_expenditure=np.array([1, 1, 1])\n",
      "    out_expenditure.shape=(1,3)\n",
      "    out_expenditure=pd.DataFrame(out_expenditure, index=['Initialize'], columns=sectorlist)\n",
      "    \n",
      "    for country in countrylist:\n",
      "        country_income = float(np.array(in_income[country:country]))\n",
      "        country_expshare = np.array(ExpShare[country:country])\n",
      "        country_expenditure = country_income*country_expshare\n",
      "        country_expenditure = pd.DataFrame(country_expenditure, columns=sectorlist, index=[country])\n",
      "        out_expenditure=pd.concat([out_expenditure, country_expenditure], axis=0)\n",
      "    \n",
      "    out_expenditure=out_expenditure.drop('Initialize')\n",
      "    \n",
      "    return out_expenditure\n",
      "    "
     ],
     "language": "python",
     "metadata": {},
     "outputs": [],
     "prompt_number": 181
    },
    {
     "cell_type": "code",
     "collapsed": false,
     "input": [
      "test = expenditure(littleL, income)\n",
      "test"
     ],
     "language": "python",
     "metadata": {},
     "outputs": [
      {
       "html": [
        "<div style=\"max-height:1000px;max-width:1500px;overflow:auto;\">\n",
        "<table border=\"1\" class=\"dataframe\">\n",
        "  <thead>\n",
        "    <tr style=\"text-align: right;\">\n",
        "      <th></th>\n",
        "      <th>Ag</th>\n",
        "      <th>Man</th>\n",
        "      <th>Ser</th>\n",
        "    </tr>\n",
        "  </thead>\n",
        "  <tbody>\n",
        "    <tr>\n",
        "      <th>Country1</th>\n",
        "      <td> 0.000578</td>\n",
        "      <td> 0.002557</td>\n",
        "      <td> 0.007991</td>\n",
        "    </tr>\n",
        "    <tr>\n",
        "      <th>Country2</th>\n",
        "      <td> 0.219563</td>\n",
        "      <td> 0.197472</td>\n",
        "      <td> 0.617099</td>\n",
        "    </tr>\n",
        "  </tbody>\n",
        "</table>\n",
        "</div>"
       ],
       "metadata": {},
       "output_type": "pyout",
       "prompt_number": 182,
       "text": [
        "                Ag       Man       Ser\n",
        "Country1  0.000578  0.002557  0.007991\n",
        "Country2  0.219563  0.197472  0.617099"
       ]
      }
     ],
     "prompt_number": 182
    },
    {
     "cell_type": "code",
     "collapsed": false,
     "input": [
      "def production(in_expenditure):\n",
      "    \n",
      "    ''' \n",
      "    This function solves simulateously for all the production combinations X_n^j.\n",
      "    It does so by substituting (10) into (12) and creating a matrix where X_n^j\n",
      "    '''\n",
      "    \n",
      "    \n",
      "    \n",
      "    \n"
     ],
     "language": "python",
     "metadata": {},
     "outputs": []
    },
    {
     "cell_type": "heading",
     "level": 4,
     "metadata": {},
     "source": [
      "Iteration"
     ]
    },
    {
     "cell_type": "code",
     "collapsed": false,
     "input": [],
     "language": "python",
     "metadata": {},
     "outputs": []
    }
   ],
   "metadata": {}
  }
 ]
}